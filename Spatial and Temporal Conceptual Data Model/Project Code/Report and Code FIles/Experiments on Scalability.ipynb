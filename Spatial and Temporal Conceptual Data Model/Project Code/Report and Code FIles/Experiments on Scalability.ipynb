{
  "nbformat": 4,
  "nbformat_minor": 0,
  "metadata": {
    "kernelspec": {
      "display_name": "Python 3",
      "language": "python",
      "name": "python3"
    },
    "language_info": {
      "codemirror_mode": {
        "name": "ipython",
        "version": 3
      },
      "file_extension": ".py",
      "mimetype": "text/x-python",
      "name": "python",
      "nbconvert_exporter": "python",
      "pygments_lexer": "ipython3",
      "version": "3.7.4"
    },
    "colab": {
      "name": "Abhishek_V3.ipynb",
      "provenance": [],
      "collapsed_sections": []
    }
  },
  "cells": [
    {
      "cell_type": "code",
      "metadata": {
        "id": "4-YZv0ypLrv8"
      },
      "source": [
        "import numpy as np\n",
        "import pandas as pd"
      ],
      "execution_count": 34,
      "outputs": []
    },
    {
      "cell_type": "markdown",
      "metadata": {
        "id": "p4-t90BfLrwD"
      },
      "source": [
        "# Read all Dataset"
      ]
    },
    {
      "cell_type": "code",
      "metadata": {
        "colab": {
          "base_uri": "https://localhost:8080/"
        },
        "id": "tzCF2NcsLrwF",
        "outputId": "a2717036-9489-406c-fa3c-95b344147b46"
      },
      "source": [
        "days_combined = pd.read_csv('Days_Combined.csv')\n",
        "days_combined.shape"
      ],
      "execution_count": 35,
      "outputs": [
        {
          "output_type": "stream",
          "name": "stderr",
          "text": [
            "/usr/local/lib/python3.7/dist-packages/IPython/core/interactiveshell.py:2718: DtypeWarning: Columns (18) have mixed types.Specify dtype option on import or set low_memory=False.\n",
            "  interactivity=interactivity, compiler=compiler, result=result)\n"
          ]
        },
        {
          "output_type": "execute_result",
          "data": {
            "text/plain": [
              "(1050767, 21)"
            ]
          },
          "metadata": {},
          "execution_count": 35
        }
      ]
    },
    {
      "cell_type": "code",
      "metadata": {
        "colab": {
          "base_uri": "https://localhost:8080/"
        },
        "id": "awaKt5jYLrwG",
        "outputId": "b1235e79-32a6-4d1e-c00d-28a263b2dd78"
      },
      "source": [
        "days_combined.columns"
      ],
      "execution_count": 36,
      "outputs": [
        {
          "output_type": "execute_result",
          "data": {
            "text/plain": [
              "Index(['Unnamed: 0', 'Time', 'Date', 'Altitude', 'Speed', 'Heading', 'Lat',\n",
              "       'Lon', 'Age', 'Range', 'Bearing', 'Tail', 'Station Identifier',\n",
              "       'Date and Time', 'Modifier', 'Wind', 'Visibility', 'Altimeter Setting',\n",
              "       'Temperature', 'Dew Point', 'Row_ID'],\n",
              "      dtype='object')"
            ]
          },
          "metadata": {},
          "execution_count": 36
        }
      ]
    },
    {
      "cell_type": "markdown",
      "metadata": {
        "id": "RDfTxaIPLrwI"
      },
      "source": [
        "# Spatial Data"
      ]
    },
    {
      "cell_type": "code",
      "metadata": {
        "colab": {
          "base_uri": "https://localhost:8080/",
          "height": 205
        },
        "id": "kKIFza3xLrwI",
        "outputId": "21693156-39c9-4fc1-ae09-9e3a85b32d73"
      },
      "source": [
        "spatial_data=days_combined[['Lat','Lon','Range','Bearing','Heading','Altitude']]\n",
        "spatial_data.head()"
      ],
      "execution_count": 37,
      "outputs": [
        {
          "output_type": "execute_result",
          "data": {
            "text/html": [
              "<div>\n",
              "<style scoped>\n",
              "    .dataframe tbody tr th:only-of-type {\n",
              "        vertical-align: middle;\n",
              "    }\n",
              "\n",
              "    .dataframe tbody tr th {\n",
              "        vertical-align: top;\n",
              "    }\n",
              "\n",
              "    .dataframe thead th {\n",
              "        text-align: right;\n",
              "    }\n",
              "</style>\n",
              "<table border=\"1\" class=\"dataframe\">\n",
              "  <thead>\n",
              "    <tr style=\"text-align: right;\">\n",
              "      <th></th>\n",
              "      <th>Lat</th>\n",
              "      <th>Lon</th>\n",
              "      <th>Range</th>\n",
              "      <th>Bearing</th>\n",
              "      <th>Heading</th>\n",
              "      <th>Altitude</th>\n",
              "    </tr>\n",
              "  </thead>\n",
              "  <tbody>\n",
              "    <tr>\n",
              "      <th>0</th>\n",
              "      <td>40.756298</td>\n",
              "      <td>-80.180405</td>\n",
              "      <td>19.611824</td>\n",
              "      <td>-96.946726</td>\n",
              "      <td>0.0</td>\n",
              "      <td>2400</td>\n",
              "    </tr>\n",
              "    <tr>\n",
              "      <th>1</th>\n",
              "      <td>40.756298</td>\n",
              "      <td>-80.180405</td>\n",
              "      <td>19.611824</td>\n",
              "      <td>-96.946726</td>\n",
              "      <td>0.0</td>\n",
              "      <td>2400</td>\n",
              "    </tr>\n",
              "    <tr>\n",
              "      <th>2</th>\n",
              "      <td>40.753006</td>\n",
              "      <td>-80.178040</td>\n",
              "      <td>19.462659</td>\n",
              "      <td>-98.087400</td>\n",
              "      <td>0.0</td>\n",
              "      <td>2400</td>\n",
              "    </tr>\n",
              "    <tr>\n",
              "      <th>3</th>\n",
              "      <td>40.753006</td>\n",
              "      <td>-80.178040</td>\n",
              "      <td>19.462659</td>\n",
              "      <td>-98.087400</td>\n",
              "      <td>0.0</td>\n",
              "      <td>2400</td>\n",
              "    </tr>\n",
              "    <tr>\n",
              "      <th>4</th>\n",
              "      <td>40.753006</td>\n",
              "      <td>-80.178040</td>\n",
              "      <td>19.462659</td>\n",
              "      <td>-98.087400</td>\n",
              "      <td>0.0</td>\n",
              "      <td>2400</td>\n",
              "    </tr>\n",
              "  </tbody>\n",
              "</table>\n",
              "</div>"
            ],
            "text/plain": [
              "         Lat        Lon      Range    Bearing  Heading  Altitude\n",
              "0  40.756298 -80.180405  19.611824 -96.946726      0.0      2400\n",
              "1  40.756298 -80.180405  19.611824 -96.946726      0.0      2400\n",
              "2  40.753006 -80.178040  19.462659 -98.087400      0.0      2400\n",
              "3  40.753006 -80.178040  19.462659 -98.087400      0.0      2400\n",
              "4  40.753006 -80.178040  19.462659 -98.087400      0.0      2400"
            ]
          },
          "metadata": {},
          "execution_count": 37
        }
      ]
    },
    {
      "cell_type": "code",
      "metadata": {
        "id": "_3qxKnINLrwJ"
      },
      "source": [
        "# Make CSV\n",
        "spatial_data.to_csv('spatial_data.csv')\n"
      ],
      "execution_count": 38,
      "outputs": []
    },
    {
      "cell_type": "markdown",
      "metadata": {
        "id": "rtEyUPEsLrwK"
      },
      "source": [
        "# Count Number of Rows"
      ]
    },
    {
      "cell_type": "code",
      "metadata": {
        "id": "5ufzcHMhLrwM"
      },
      "source": [
        "# Taking 25%\n",
        "count_25=int((25*spatial_data.shape[0])/100)\n",
        "\n",
        "# Taking 50%\n",
        "count_50=int((50*spatial_data.shape[0])/100)\n",
        "\n",
        "# Taking 75%\n",
        "count_75=int((75*spatial_data.shape[0])/100)\n",
        "\n",
        "# Taking 100%\n",
        "count_100=spatial_data.shape[0]\n"
      ],
      "execution_count": 39,
      "outputs": []
    },
    {
      "cell_type": "code",
      "metadata": {
        "colab": {
          "base_uri": "https://localhost:8080/"
        },
        "id": "MbtVjwjKLrwN",
        "outputId": "d7f2f206-3f30-45bb-997f-a8a745934dfc"
      },
      "source": [
        "print(count_25)\n",
        "print(count_50)\n",
        "print(count_75)\n",
        "print(count_100)"
      ],
      "execution_count": 40,
      "outputs": [
        {
          "output_type": "stream",
          "name": "stdout",
          "text": [
            "262691\n",
            "525383\n",
            "788075\n",
            "1050767\n"
          ]
        }
      ]
    },
    {
      "cell_type": "markdown",
      "metadata": {
        "id": "SjF6OFbOLrwO"
      },
      "source": [
        "# Read Spatial Data"
      ]
    },
    {
      "cell_type": "code",
      "metadata": {
        "id": "cXrlNkUKLrwP"
      },
      "source": [
        "from timeit import default_timer as timer\n",
        "read_time=[]\n",
        "\n",
        "\n",
        "# Read 25% data\n",
        "start_25=timer()\n",
        "spatial_combined_25 = pd.read_csv('spatial_data.csv',nrows=count_25)\n",
        "end_25=timer()\n",
        "\n",
        "# Read 50% data\n",
        "start_50=timer()\n",
        "spatial_combined_50 = pd.read_csv('spatial_data.csv',nrows=count_50)\n",
        "end_50=timer()\n",
        "\n",
        "# Read 75% data\n",
        "start_75=timer()\n",
        "spatial_combined_75 = pd.read_csv('spatial_data.csv',nrows=count_75)\n",
        "end_75=timer()\n",
        "\n",
        "# Read 100% data\n",
        "start_100=timer()\n",
        "spatial_combined_100 = pd.read_csv('spatial_data.csv',nrows=count_100)\n",
        "spatial_combined_100=spatial_combined_100.fillna(0)\n",
        "end_100=timer()\n",
        "\n",
        "# Appending execution time\n",
        "read_time.append(end_25-start_25)\n",
        "read_time.append(end_50-start_50)\n",
        "read_time.append(end_75-start_75)\n",
        "read_time.append(end_100-start_100)"
      ],
      "execution_count": 41,
      "outputs": []
    },
    {
      "cell_type": "code",
      "metadata": {
        "colab": {
          "base_uri": "https://localhost:8080/"
        },
        "id": "47oeYQsXLrwQ",
        "outputId": "c24e36fb-373f-4d4f-f732-3c53bdb9bf7a"
      },
      "source": [
        "read_time"
      ],
      "execution_count": 42,
      "outputs": [
        {
          "output_type": "execute_result",
          "data": {
            "text/plain": [
              "[0.22120216900009382,\n",
              " 0.4364906770000516,\n",
              " 0.6432091320000382,\n",
              " 0.864320050999936]"
            ]
          },
          "metadata": {},
          "execution_count": 42
        }
      ]
    },
    {
      "cell_type": "markdown",
      "metadata": {
        "id": "JDBjFg-4LrwQ"
      },
      "source": [
        "# Memory size of DataFrames\n"
      ]
    },
    {
      "cell_type": "code",
      "metadata": {
        "colab": {
          "base_uri": "https://localhost:8080/"
        },
        "id": "x1IHwi5ZLrwR",
        "outputId": "6022fbaa-100e-4a57-c697-858add076eef"
      },
      "source": [
        "spatial_combined_25.info(memory_usage=\"deep\")"
      ],
      "execution_count": 43,
      "outputs": [
        {
          "output_type": "stream",
          "name": "stdout",
          "text": [
            "<class 'pandas.core.frame.DataFrame'>\n",
            "RangeIndex: 262691 entries, 0 to 262690\n",
            "Data columns (total 7 columns):\n",
            " #   Column      Non-Null Count   Dtype  \n",
            "---  ------      --------------   -----  \n",
            " 0   Unnamed: 0  262691 non-null  int64  \n",
            " 1   Lat         262691 non-null  float64\n",
            " 2   Lon         262691 non-null  float64\n",
            " 3   Range       262691 non-null  float64\n",
            " 4   Bearing     262691 non-null  float64\n",
            " 5   Heading     262691 non-null  float64\n",
            " 6   Altitude    262691 non-null  int64  \n",
            "dtypes: float64(5), int64(2)\n",
            "memory usage: 14.0 MB\n"
          ]
        }
      ]
    },
    {
      "cell_type": "code",
      "metadata": {
        "colab": {
          "base_uri": "https://localhost:8080/"
        },
        "id": "ahbnGKc_LrwR",
        "outputId": "134761f0-5015-4c7f-f6d3-a651d0d49b40"
      },
      "source": [
        "spatial_combined_50.info(memory_usage=\"deep\")"
      ],
      "execution_count": 44,
      "outputs": [
        {
          "output_type": "stream",
          "name": "stdout",
          "text": [
            "<class 'pandas.core.frame.DataFrame'>\n",
            "RangeIndex: 525383 entries, 0 to 525382\n",
            "Data columns (total 7 columns):\n",
            " #   Column      Non-Null Count   Dtype  \n",
            "---  ------      --------------   -----  \n",
            " 0   Unnamed: 0  525383 non-null  int64  \n",
            " 1   Lat         525383 non-null  float64\n",
            " 2   Lon         525383 non-null  float64\n",
            " 3   Range       525383 non-null  float64\n",
            " 4   Bearing     525383 non-null  float64\n",
            " 5   Heading     525383 non-null  float64\n",
            " 6   Altitude    525383 non-null  int64  \n",
            "dtypes: float64(5), int64(2)\n",
            "memory usage: 28.1 MB\n"
          ]
        }
      ]
    },
    {
      "cell_type": "code",
      "metadata": {
        "colab": {
          "base_uri": "https://localhost:8080/"
        },
        "id": "JMCrdzSlLrwR",
        "outputId": "8383cefe-d128-45a2-a3d2-9f1353b69f83"
      },
      "source": [
        "spatial_combined_75.info(memory_usage=\"deep\")"
      ],
      "execution_count": 45,
      "outputs": [
        {
          "output_type": "stream",
          "name": "stdout",
          "text": [
            "<class 'pandas.core.frame.DataFrame'>\n",
            "RangeIndex: 788075 entries, 0 to 788074\n",
            "Data columns (total 7 columns):\n",
            " #   Column      Non-Null Count   Dtype  \n",
            "---  ------      --------------   -----  \n",
            " 0   Unnamed: 0  788075 non-null  int64  \n",
            " 1   Lat         788075 non-null  float64\n",
            " 2   Lon         788075 non-null  float64\n",
            " 3   Range       788075 non-null  float64\n",
            " 4   Bearing     788075 non-null  float64\n",
            " 5   Heading     788075 non-null  float64\n",
            " 6   Altitude    788075 non-null  int64  \n",
            "dtypes: float64(5), int64(2)\n",
            "memory usage: 42.1 MB\n"
          ]
        }
      ]
    },
    {
      "cell_type": "code",
      "metadata": {
        "scrolled": true,
        "colab": {
          "base_uri": "https://localhost:8080/"
        },
        "id": "57moFQreLrwS",
        "outputId": "7d7d81a6-733a-4560-e4c0-91406f5034a2"
      },
      "source": [
        "spatial_combined_100.info(memory_usage=\"deep\")"
      ],
      "execution_count": 46,
      "outputs": [
        {
          "output_type": "stream",
          "name": "stdout",
          "text": [
            "<class 'pandas.core.frame.DataFrame'>\n",
            "RangeIndex: 1050767 entries, 0 to 1050766\n",
            "Data columns (total 7 columns):\n",
            " #   Column      Non-Null Count    Dtype  \n",
            "---  ------      --------------    -----  \n",
            " 0   Unnamed: 0  1050767 non-null  int64  \n",
            " 1   Lat         1050767 non-null  float64\n",
            " 2   Lon         1050767 non-null  float64\n",
            " 3   Range       1050767 non-null  float64\n",
            " 4   Bearing     1050767 non-null  float64\n",
            " 5   Heading     1050767 non-null  float64\n",
            " 6   Altitude    1050767 non-null  int64  \n",
            "dtypes: float64(5), int64(2)\n",
            "memory usage: 56.1 MB\n"
          ]
        }
      ]
    },
    {
      "cell_type": "markdown",
      "metadata": {
        "id": "nTmmaTgqLrwS"
      },
      "source": [
        "# SQL"
      ]
    },
    {
      "cell_type": "code",
      "metadata": {
        "id": "lc5rFvfbLrwS"
      },
      "source": [
        "import sqlite3\n",
        "conn = sqlite3.connect('spatial_database')\n",
        "c = conn.cursor()\n",
        "c.execute('CREATE TABLE IF NOT EXISTS spatial_data (Table_Index_Key)')\n",
        "conn.commit() \n"
      ],
      "execution_count": 47,
      "outputs": []
    },
    {
      "cell_type": "markdown",
      "metadata": {
        "id": "E7YnTns3LrwT"
      },
      "source": [
        "# Time complexity for Insertion using SQL Queries"
      ]
    },
    {
      "cell_type": "code",
      "metadata": {
        "id": "_6XsecwaLrwT"
      },
      "source": [
        "sql_insert_execution_time=[]\n",
        "\n",
        "spatial_data[:count_25].to_sql('spatial_data', conn, if_exists='replace', index = False)\n",
        "\n",
        "# Inserting 25% of data\n",
        "sql_insert_start_25=timer()\n",
        "for i in range(count_25):\n",
        "    values = tuple(spatial_data.iloc[i])\n",
        "    c.execute(\"insert into spatial_data values (?,?,?,?,?,?)\", values)\n",
        "sql_insert_end_25=timer()\n",
        "\n",
        "# Inserting 50% of data\n",
        "sql_insert_start_50=timer()\n",
        "for i in range(count_50):\n",
        "    values = tuple(spatial_data.iloc[i])\n",
        "    c.execute(\"insert into spatial_data values (?,?,?,?,?,?)\", values)\n",
        "sql_insert_end_50=timer()\n",
        "\n",
        "\n",
        "# Inserting 75% of data\n",
        "sql_insert_start_75=timer()\n",
        "for i in range(count_75):\n",
        "    values = tuple(spatial_data.iloc[i])\n",
        "    c.execute(\"insert into spatial_data values (?,?,?,?,?,?)\", values)\n",
        "sql_insert_end_75=timer()\n",
        "\n",
        "\n",
        "# Inserting 100% of data\n",
        "sql_insert_start_100=timer()\n",
        "for i in range(count_100):\n",
        "    values = tuple(spatial_data.iloc[i])\n",
        "    c.execute(\"insert into spatial_data values (?,?,?,?,?,?)\", values)\n",
        "sql_insert_end_100=timer()\n",
        "\n",
        "\n",
        "# Appending execution time\n",
        "sql_insert_execution_time.append(sql_insert_end_25-sql_insert_start_25)\n",
        "sql_insert_execution_time.append(sql_insert_end_50-sql_insert_start_50)\n",
        "sql_insert_execution_time.append(sql_insert_end_75-sql_insert_start_75)\n",
        "sql_insert_execution_time.append(sql_insert_end_100-sql_insert_start_100)"
      ],
      "execution_count": 48,
      "outputs": []
    },
    {
      "cell_type": "code",
      "metadata": {
        "colab": {
          "base_uri": "https://localhost:8080/"
        },
        "id": "kYiPrSVuLrwT",
        "outputId": "0289d76f-91bc-4095-a129-11f1b07f6ccb"
      },
      "source": [
        "sql_insert_execution_time"
      ],
      "execution_count": 49,
      "outputs": [
        {
          "output_type": "execute_result",
          "data": {
            "text/plain": [
              "[36.16345506899995, 72.43575800200006, 108.78674009200006, 144.87997193399997]"
            ]
          },
          "metadata": {},
          "execution_count": 49
        }
      ]
    },
    {
      "cell_type": "markdown",
      "metadata": {
        "id": "pF_RPbDFLrwU"
      },
      "source": [
        "# KD Tree"
      ]
    },
    {
      "cell_type": "code",
      "metadata": {
        "id": "EhlozkosLrwU"
      },
      "source": [
        "import numpy as np\n",
        "import scipy\n",
        "import scipy.spatial\n",
        "import sys\n",
        "sys.setrecursionlimit(10**6)\n",
        "\n",
        "tree_execution_time=[]\n",
        "\n",
        "tree_start_25=timer()\n",
        "spatial_data_arr_25=spatial_data[:count_25].to_numpy()\n",
        "tree = scipy.spatial.KDTree(spatial_data_arr_25, leafsize=2)\n",
        "dist, count = tree.query(spatial_data_arr_25[:100], k=3) \n",
        "tree_end_25=timer()\n",
        "\n",
        "tree_start_50=timer()\n",
        "spatial_data_arr_50=spatial_data[:count_50].to_numpy()\n",
        "tree = scipy.spatial.KDTree(spatial_data_arr_50, leafsize=2)\n",
        "dist, count = tree.query(spatial_data_arr_50[:100], k=3)\n",
        "\n",
        "tree_end_50=timer()\n",
        "\n",
        "tree_start_75=timer()\n",
        "spatial_data_arr_75=spatial_data[:count_75].to_numpy()\n",
        "tree = scipy.spatial.KDTree(spatial_data_arr_75, leafsize=2)\n",
        "dist, count = tree.query(spatial_data_arr_75[:100], k=3)\n",
        "tree_end_75=timer()\n",
        "\n",
        "\n",
        "tree_start_100=timer()\n",
        "spatial_data_arr_100=spatial_data[:count_100].to_numpy()\n",
        "spatial_data_arr_100 = np.where(np.isnan(spatial_data_arr_100), 0, spatial_data_arr_100)\n",
        "tree = scipy.spatial.KDTree(spatial_data_arr_100, leafsize=2)\n",
        "dist, count = tree.query(spatial_data_arr_100[:100], k=3)\n",
        "tree_end_100=timer()\n",
        "\n",
        "\n",
        "# Appending execution time\n",
        "tree_execution_time.append(tree_end_25-tree_start_25)\n",
        "tree_execution_time.append(tree_end_50-tree_start_50)\n",
        "tree_execution_time.append(tree_end_75-tree_start_75)\n",
        "tree_execution_time.append(tree_end_100-tree_start_100)\n",
        "    "
      ],
      "execution_count": 50,
      "outputs": []
    },
    {
      "cell_type": "code",
      "metadata": {
        "colab": {
          "base_uri": "https://localhost:8080/"
        },
        "id": "yopReUexLrwU",
        "outputId": "926be5f6-4d4a-4cf4-e567-7357b12f9b45"
      },
      "source": [
        "tree_execution_time"
      ],
      "execution_count": 51,
      "outputs": [
        {
          "output_type": "execute_result",
          "data": {
            "text/plain": [
              "[16.45643406299996, 36.0885287640001, 55.52870120400007, 75.6533799939998]"
            ]
          },
          "metadata": {},
          "execution_count": 51
        }
      ]
    },
    {
      "cell_type": "markdown",
      "metadata": {
        "id": "jBVfHq9FLNCH"
      },
      "source": [
        "# Graph for Insertion Time"
      ]
    },
    {
      "cell_type": "code",
      "metadata": {
        "colab": {
          "base_uri": "https://localhost:8080/",
          "height": 463
        },
        "id": "jz1lxe_PLA5Y",
        "outputId": "381a19f8-7eb7-45ef-e12a-b015c6face49"
      },
      "source": [
        "from matplotlib.pyplot import figure\n",
        "import matplotlib.pyplot as plt\n",
        "import matplotlib.colors as colors\n",
        "\n",
        "# List for % of data\n",
        "count_percent=[25,50,75,100]\n",
        "figure(figsize=(15,7))\n",
        "# plt.plot(count_percent,read_time, 'ro-', label = \"Insertion using SQL\", linewidth = '2.5',markersize=8)\n",
        "# plt.plot(count_percent,sql_insert_execution_time, 'go-', label = \"Insertion using Pandas DataFrame\", linewidth = '2.5',markersize=8)\n",
        "# plt.plot(count_percent,tree_execution_time, 'rs', label = \"Insertion using SQL\", linewidth = '2.5',markersize=8)\n",
        "\n",
        "\n",
        "plt.plot(count_percent,read_time, label = \"Insertion using Pandas DataFrame\", linewidth = '2.5',\n",
        "         color='blue', linestyle='--', marker='^', markerfacecolor='red', markersize=8)\n",
        "\n",
        "plt.plot(count_percent,tree_execution_time, label = \"Insertion using KD Tree\", linewidth = '2.5',\n",
        "         color='green', linestyle='-', marker='o', markerfacecolor='blue', markersize=8)\n",
        "\n",
        "plt.plot(count_percent,sql_insert_execution_time, label = \"Insertion using SQL\", linewidth = '2.5',\n",
        "         color='red', linestyle='-.', marker='>', markerfacecolor='black', markersize=8)\n",
        "\n",
        "plt.title(\"Time Complexity of Insertion for different record size\")\n",
        "plt.xlabel(\"Record Size (in %)\",fontsize=15)  \n",
        "plt.ylabel(\"Execution Time (In seconds)\",fontsize=15)\n",
        "\n",
        "plt.legend()\n",
        "plt.show()"
      ],
      "execution_count": 106,
      "outputs": [
        {
          "output_type": "display_data",
          "data": {
            "image/png": "[encoded data removed]",
            "text/plain": [
              "<Figure size 1080x504 with 1 Axes>"
            ]
          },
          "metadata": {
            "needs_background": "light"
          }
        }
      ]
    },
    {
      "cell_type": "markdown",
      "metadata": {
        "id": "tWQ7XAH9SuV4"
      },
      "source": [
        "# KD Tree Nearest Neighbbours (Query to get number of Nearest Neighbours)"
      ]
    },
    {
      "cell_type": "code",
      "metadata": {
        "id": "vCAznzkgbUUm"
      },
      "source": [
        "knn_time=[]\n",
        "\n",
        "knn_25_start=timer()\n",
        "spatial_data_fetch_25=sorted(tree.query_ball_point(spatial_data_arr_25[:10000], 1))\n",
        "knn_25_end=timer()\n",
        "\n",
        "knn_50_start=timer()\n",
        "spatial_data_fetch_50=sorted(tree.query_ball_point(spatial_data_arr_50[:50000], 1))\n",
        "knn_50_end=timer()\n",
        "\n",
        "knn_75_start=timer()\n",
        "spatial_data_fetch_75=sorted(tree.query_ball_point(spatial_data_arr_75[:90000], 1))\n",
        "knn_75_end=timer()\n",
        "\n",
        "knn_100_start=timer()\n",
        "spatial_data_fetch_100=sorted(tree.query_ball_point(spatial_data_arr_100[:300000], 1))\n",
        "knn_100_end=timer()\n",
        "\n",
        "length_25=0\n",
        "length_50=0\n",
        "length_75=0\n",
        "length_100=0\n",
        "\n",
        "\n",
        "# Append\n",
        "knn_time.append(knn_25_end-knn_25_start)\n",
        "knn_time.append(knn_50_end-knn_50_start)\n",
        "knn_time.append(knn_75_end-knn_75_start)\n",
        "knn_time.append(knn_100_end-knn_100_start)\n",
        "\n",
        "\n",
        "for i in spatial_data_fetch_25:\n",
        "  length_25=length_25+len(i)\n",
        "\n",
        "for i in spatial_data_fetch_50:\n",
        "  length_50=length_50+len(i)\n",
        "\n",
        "for i in spatial_data_fetch_75:\n",
        "  length_75=length_75+len(i)\n",
        "\n",
        "for i in spatial_data_fetch_100:\n",
        "  length_100=length_100+len(i)"
      ],
      "execution_count": 79,
      "outputs": []
    },
    {
      "cell_type": "markdown",
      "metadata": {
        "id": "sFh2vX0cTZVr"
      },
      "source": [
        "# Create DataFrame"
      ]
    },
    {
      "cell_type": "code",
      "metadata": {
        "colab": {
          "base_uri": "https://localhost:8080/",
          "height": 173
        },
        "id": "7zfhyd6mTcql",
        "outputId": "cde0d57f-586e-4311-daa6-ff5c27ea5cd6"
      },
      "source": [
        "df = pd.DataFrame({\n",
        "  'Index' : [0,1,2,3],\n",
        "  'Percentage Data' : [25,50,75,100],\n",
        " 'Time' : knn_time,\n",
        " 'Neighbouring Points' : [length_25,length_50,length_75,length_100],\n",
        "  })\n",
        "\n",
        "df.head()"
      ],
      "execution_count": 81,
      "outputs": [
        {
          "output_type": "execute_result",
          "data": {
            "text/html": [
              "<div>\n",
              "<style scoped>\n",
              "    .dataframe tbody tr th:only-of-type {\n",
              "        vertical-align: middle;\n",
              "    }\n",
              "\n",
              "    .dataframe tbody tr th {\n",
              "        vertical-align: top;\n",
              "    }\n",
              "\n",
              "    .dataframe thead th {\n",
              "        text-align: right;\n",
              "    }\n",
              "</style>\n",
              "<table border=\"1\" class=\"dataframe\">\n",
              "  <thead>\n",
              "    <tr style=\"text-align: right;\">\n",
              "      <th></th>\n",
              "      <th>Index</th>\n",
              "      <th>Percentage Data</th>\n",
              "      <th>Time</th>\n",
              "      <th>Neighbouring Points</th>\n",
              "    </tr>\n",
              "  </thead>\n",
              "  <tbody>\n",
              "    <tr>\n",
              "      <th>0</th>\n",
              "      <td>0</td>\n",
              "      <td>25</td>\n",
              "      <td>0.552115</td>\n",
              "      <td>231785</td>\n",
              "    </tr>\n",
              "    <tr>\n",
              "      <th>1</th>\n",
              "      <td>1</td>\n",
              "      <td>50</td>\n",
              "      <td>4.959664</td>\n",
              "      <td>1482377</td>\n",
              "    </tr>\n",
              "    <tr>\n",
              "      <th>2</th>\n",
              "      <td>2</td>\n",
              "      <td>75</td>\n",
              "      <td>9.693886</td>\n",
              "      <td>2853685</td>\n",
              "    </tr>\n",
              "    <tr>\n",
              "      <th>3</th>\n",
              "      <td>3</td>\n",
              "      <td>100</td>\n",
              "      <td>29.242681</td>\n",
              "      <td>8148580</td>\n",
              "    </tr>\n",
              "  </tbody>\n",
              "</table>\n",
              "</div>"
            ],
            "text/plain": [
              "   Index  Percentage Data       Time  Neighbouring Points\n",
              "0      0               25   0.552115               231785\n",
              "1      1               50   4.959664              1482377\n",
              "2      2               75   9.693886              2853685\n",
              "3      3              100  29.242681              8148580"
            ]
          },
          "metadata": {},
          "execution_count": 81
        }
      ]
    },
    {
      "cell_type": "code",
      "metadata": {
        "id": "fLfCKZVQe1pU"
      },
      "source": [
        "df.to_csv('Knn.csv')"
      ],
      "execution_count": 82,
      "outputs": []
    },
    {
      "cell_type": "markdown",
      "metadata": {
        "id": "ddeuiltLPSH2"
      },
      "source": [
        "# Graph for Fetch KD Tree"
      ]
    },
    {
      "cell_type": "markdown",
      "metadata": {
        "id": "fJPsXRrmRiGH"
      },
      "source": [
        "# Time Complexity for Fetching Data from using SQL queries"
      ]
    },
    {
      "cell_type": "code",
      "metadata": {
        "id": "yko6cVU-RmR1"
      },
      "source": [
        "\n",
        "\n",
        "Fetch_sql_execution_time=[]\n",
        "\n",
        "# Fetching 25% of the data from the df_current\n",
        "\n",
        "fetch_sql_start_25=timer()\n",
        "for i in c.execute('''SELECT * FROM spatial_data LIMIT 26269'''):\n",
        "  continue\n",
        "fetch_sql_end_25=timer()\n",
        "\n",
        "# Fetching 50% of the data from the df_current\n",
        "\n",
        "fetch_sql_start_50=timer()\n",
        "for i in c.execute('''SELECT * FROM spatial_data LIMIT 52538'''):\n",
        "  continue\n",
        "fetch_sql_end_50=timer()\n",
        "\n",
        "\n",
        "# Fetching 75% of the data from the df_current\n",
        "\n",
        "fetch_sql_start_75=timer()\n",
        "for i in c.execute('''SELECT * FROM spatial_data LIMIT 788075'''):\n",
        "  continue\n",
        "fetch_sql_end_75=timer()\n",
        "\n",
        "\n",
        "\n",
        "\n",
        "\n",
        "# Fetching 100% of the data from the df_current\n",
        "\n",
        "fetch_sql_start_100=timer()\n",
        "for i in c.execute('''SELECT * FROM spatial_data LIMIT 1050767'''):\n",
        "  continue\n",
        "fetch_sql_end_100=timer()\n",
        "\n",
        "\n",
        "\n",
        "\n",
        "Fetch_sql_execution_time.append(fetch_sql_end_25-fetch_sql_start_25)\n",
        "\n",
        "Fetch_sql_execution_time.append(fetch_sql_end_50-fetch_sql_start_50)\n",
        "Fetch_sql_execution_time.append(fetch_sql_end_75-fetch_sql_start_75)\n",
        "Fetch_sql_execution_time.append(fetch_sql_end_100-fetch_sql_start_100)"
      ],
      "execution_count": 95,
      "outputs": []
    },
    {
      "cell_type": "code",
      "metadata": {
        "colab": {
          "base_uri": "https://localhost:8080/"
        },
        "id": "I3uEZIWIys3_",
        "outputId": "803583cc-86a0-4569-9a52-e84af78e2215"
      },
      "source": [
        "for i in c.execute('SELECT SUM(\"pgsize\") FROM \"dbstat\" where name=\"spatial_data\"'):\n",
        "  print(i)"
      ],
      "execution_count": 114,
      "outputs": [
        {
          "output_type": "stream",
          "name": "stdout",
          "text": [
            "(12861440,)\n"
          ]
        }
      ]
    },
    {
      "cell_type": "code",
      "metadata": {
        "colab": {
          "base_uri": "https://localhost:8080/"
        },
        "id": "2kwXQtTa0LmP",
        "outputId": "a22b934c-c7e6-43ce-ce73-42443f12c92f"
      },
      "source": [
        "print(c.execute('SELECT SUM(\"pgsize\") FROM \"dbstat\" where name=\"spatial_data\"'))"
      ],
      "execution_count": 115,
      "outputs": [
        {
          "output_type": "stream",
          "name": "stdout",
          "text": [
            "<sqlite3.Cursor object at 0x7f7b6897a810>\n"
          ]
        }
      ]
    },
    {
      "cell_type": "code",
      "metadata": {
        "colab": {
          "base_uri": "https://localhost:8080/"
        },
        "id": "cguYZpXfQ78x",
        "outputId": "72dea700-ffbe-4290-8eac-4cbdeb49a920"
      },
      "source": [
        "Fetch_sql_execution_time"
      ],
      "execution_count": 96,
      "outputs": [
        {
          "output_type": "execute_result",
          "data": {
            "text/plain": [
              "[0.036522473999866634,\n",
              " 0.06868675599980634,\n",
              " 0.36015441000017745,\n",
              " 0.35435871000117913]"
            ]
          },
          "metadata": {},
          "execution_count": 96
        }
      ]
    },
    {
      "cell_type": "markdown",
      "metadata": {
        "id": "iVBgEnveQ_oQ"
      },
      "source": [
        "# Fetch Time for Pandas DataFrame"
      ]
    },
    {
      "cell_type": "code",
      "metadata": {
        "id": "VC9iBiizQ9mD"
      },
      "source": [
        "# 262691\n",
        "# 525383\n",
        "# 788075\n",
        "# 1050767\n",
        "df_fetch_execution_time=[]\n",
        "\n",
        "df_fetch_start_25=timer()\n",
        "df_fetch_25=pd.read_sql_query('SELECT * FROM spatial_data LIMIT 202691',conn)\n",
        "df_fetch_end_25=timer()\n",
        "\n",
        "df_fetch_start_50=timer()\n",
        "\n",
        "df_fetch_50=pd.read_sql_query('SELECT * FROM spatial_data LIMIT 325383',conn)\n",
        "df_fetch_end_50=timer()\n",
        "\n",
        "df_fetch_start_75=timer()\n",
        "\n",
        "df_fetch_75=pd.read_sql_query('SELECT * FROM spatial_data LIMIT 588075',conn)\n",
        "df_fetch_end_75=timer()\n",
        "\n",
        "df_fetch_start_100=timer()\n",
        "\n",
        "df_fetch_100=pd.read_sql_query('SELECT * FROM spatial_data LIMIT 1050767',conn)\n",
        "df_fetch_end_100=timer()\n",
        "\n",
        "df_fetch_execution_time.append(df_fetch_end_25-df_fetch_start_25)\n",
        "df_fetch_execution_time.append(df_fetch_end_50-df_fetch_start_50)\n",
        "df_fetch_execution_time.append(df_fetch_end_75-df_fetch_start_75)\n",
        "df_fetch_execution_time.append(df_fetch_end_100-df_fetch_start_100)"
      ],
      "execution_count": 103,
      "outputs": []
    },
    {
      "cell_type": "code",
      "metadata": {
        "colab": {
          "base_uri": "https://localhost:8080/"
        },
        "id": "Ey7jzT3JRdvl",
        "outputId": "d180b290-fa20-490a-93b3-43b5f6544b7a"
      },
      "source": [
        "df_fetch_execution_time"
      ],
      "execution_count": 104,
      "outputs": [
        {
          "output_type": "execute_result",
          "data": {
            "text/plain": [
              "[0.5320387740011938,\n",
              " 0.6568284240001958,\n",
              " 0.6341315419995226,\n",
              " 0.6503228710007534]"
            ]
          },
          "metadata": {},
          "execution_count": 104
        }
      ]
    },
    {
      "cell_type": "markdown",
      "metadata": {
        "id": "ziIwFu8kc1UN"
      },
      "source": [
        "# Fetch Time for Tree"
      ]
    },
    {
      "cell_type": "code",
      "metadata": {
        "colab": {
          "base_uri": "https://localhost:8080/"
        },
        "id": "P4eEa2Lzc3pb",
        "outputId": "70d2e7ed-ab96-4cda-80d3-081234fd499c"
      },
      "source": [
        "# 262691\n",
        "# 525383\n",
        "# 788075\n",
        "# 1050767\n",
        "tree_fetch_execution_time=[]\n",
        "\n",
        "tree_fetch_start_25=timer()\n",
        "tree.data[:count_25]\n",
        "tree_fetch_end_25=timer()\n",
        "\n",
        "tree_fetch_start_50=timer()\n",
        "\n",
        "tree.data[:count_50]\n",
        "tree_fetch_end_50=timer()\n",
        "\n",
        "tree_fetch_start_75=timer()\n",
        "\n",
        "tree.data[:count_75]\n",
        "tree_fetch_end_75=timer()\n",
        "\n",
        "tree_fetch_start_100=timer()\n",
        "tree.data[:count_100]\n",
        "tree_fetch_end_100=timer()\n",
        "\n",
        "tree_fetch_execution_time.append(tree_fetch_end_25-tree_fetch_start_25)\n",
        "tree_fetch_execution_time.append(tree_fetch_end_50-tree_fetch_start_50)\n",
        "tree_fetch_execution_time.append(tree_fetch_end_75-tree_fetch_start_75)\n",
        "tree_fetch_execution_time.append(tree_fetch_end_100-tree_fetch_start_100)\n",
        "\n",
        "tree_fetch_execution_time"
      ],
      "execution_count": 85,
      "outputs": [
        {
          "output_type": "execute_result",
          "data": {
            "text/plain": [
              "[6.033499994373415e-05,\n",
              " 3.44239997502882e-05,\n",
              " 3.076600023632636e-05,\n",
              " 3.238699991925387e-05]"
            ]
          },
          "metadata": {},
          "execution_count": 85
        }
      ]
    },
    {
      "cell_type": "markdown",
      "metadata": {
        "id": "IaS2KDrWeaUu"
      },
      "source": [
        "# Sequential Fetch Time Graph"
      ]
    },
    {
      "cell_type": "code",
      "metadata": {
        "colab": {
          "base_uri": "https://localhost:8080/",
          "height": 463
        },
        "id": "adg7zYT_ee7n",
        "outputId": "e55023d1-4bdb-43e1-e27f-300b56d39853"
      },
      "source": [
        "from matplotlib.pyplot import figure\n",
        "import matplotlib.pyplot as plt\n",
        "import matplotlib.colors as colors\n",
        "\n",
        "# List for % of data\n",
        "count_percent=[25,50,75,100]\n",
        "figure(figsize=(15,7))\n",
        "# plt.plot(count_percent,read_time, 'ro-', label = \"Insertion using SQL\", linewidth = '2.5',markersize=8)\n",
        "# plt.plot(count_percent,sql_insert_execution_time, 'go-', label = \"Insertion using Pandas DataFrame\", linewidth = '2.5',markersize=8)\n",
        "# plt.plot(count_percent,tree_execution_time, 'rs', label = \"Insertion using SQL\", linewidth = '2.5',markersize=8)\n",
        "\n",
        "\n",
        "plt.plot(count_percent,df_fetch_execution_time, label = \"Fetching using Pandas DataFrame\", linewidth = '3',\n",
        "         color='blue', linestyle='--', marker='^', markerfacecolor='red', markersize=5)\n",
        "\n",
        "plt.plot(count_percent,tree_fetch_execution_time, label = \"Fetching using KD Tree\", linewidth = '3',\n",
        "         color='green', linestyle='-', marker='o', markerfacecolor='blue', markersize=5)\n",
        "\n",
        "plt.plot(count_percent,Fetch_sql_execution_time, label = \"Fetching using SQL\", linewidth = '3',\n",
        "         color='red', linestyle='-.', marker='>', markerfacecolor='black', markersize=5)\n",
        "\n",
        "plt.title(\"Time Complexity of Sequential for different record size\")\n",
        "plt.xlabel(\"Record Size (in %)\",fontsize=15)  \n",
        "plt.ylabel(\"Execution Time (In seconds)\",fontsize=15)\n",
        "\n",
        "plt.legend()\n",
        "plt.show()"
      ],
      "execution_count": 107,
      "outputs": [
        {
          "output_type": "display_data",
          "data": {
            "image/png": "[encoded data removed]",
            "text/plain": [
              "<Figure size 1080x504 with 1 Axes>"
            ]
          },
          "metadata": {
            "needs_background": "light"
          }
        }
      ]
    },
    {
      "cell_type": "markdown",
      "metadata": {
        "id": "P27m6DiPR7oM"
      },
      "source": [
        "# Space using Pickle"
      ]
    },
    {
      "cell_type": "code",
      "metadata": {
        "id": "UC9NDLBzRj5V"
      },
      "source": [
        "import pickle\n",
        "import scipy.spatial\n",
        "\n",
        "tree=scipy.spatial.cKDTree(spatial_data_arr_100)\n",
        "pickle.dump(tree,open('tree.p','wb'))"
      ],
      "execution_count": 72,
      "outputs": []
    },
    {
      "cell_type": "code",
      "metadata": {
        "id": "54T7Ot-0U7YT"
      },
      "source": [
        "import bz2\n",
        "import pickle\n",
        "import _pickle as cPickle\n",
        "\n",
        "# Pickle a file and then compress it into a file with extension \n",
        "def compressed_pickle(title, data):\n",
        " with bz2.BZ2File(title + '.pbz2', 'w') as f: \n",
        "  cPickle.dump(data, f)\n",
        "\n",
        "\n",
        "compressed_pickle('tree_pickle_compressed', tree) "
      ],
      "execution_count": 119,
      "outputs": []
    },
    {
      "cell_type": "code",
      "metadata": {
        "id": "ogf5_bm21-0m"
      },
      "source": [
        "# Saves the \"data\" with the \"title\" and adds the .pickle\n",
        "def full_pickle(title, data):\n",
        " pikd = open(title + '.pickle', 'wb')\n",
        " pickle.dump(data, pikd)\n",
        " pikd.close()\n",
        "\n",
        "full_pickle('tree_pickle_full', tree) \n"
      ],
      "execution_count": 122,
      "outputs": []
    },
    {
      "cell_type": "code",
      "metadata": {
        "id": "gik7ka882rg5"
      },
      "source": [
        ""
      ],
      "execution_count": null,
      "outputs": []
    }
  ]
}