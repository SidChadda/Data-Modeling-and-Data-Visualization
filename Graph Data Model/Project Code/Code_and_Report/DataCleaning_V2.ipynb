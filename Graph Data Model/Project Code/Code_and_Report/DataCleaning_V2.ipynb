{
 "cells": [
  {
   "cell_type": "code",
   "execution_count": 1,
   "id": "f30c98b7",
   "metadata": {},
   "outputs": [],
   "source": [
    "import pandas as pd\n",
    "import numpy as np \n",
    "import matplotlib as mpl\n",
    "from matplotlib import pyplot as plt\n",
    "from matplotlib.cm import ScalarMappable\n",
    "from matplotlib.lines import Line2D\n",
    "from mpl_toolkits.axes_grid1.inset_locator import inset_axes\n",
    "from textwrap import wrap"
   ]
  },
  {
   "cell_type": "code",
   "execution_count": 2,
   "id": "6a5dac31",
   "metadata": {},
   "outputs": [],
   "source": [
    "df_title = pd.read_csv('soc-redditHyperlinks-title.tsv', delimiter='\\t')"
   ]
  },
  {
   "cell_type": "code",
   "execution_count": 3,
   "id": "d019a7cf",
   "metadata": {},
   "outputs": [],
   "source": [
    "df_body = pd.read_csv('soc-redditHyperlinks-body.tsv', delimiter='\\t')"
   ]
  },
  {
   "cell_type": "code",
   "execution_count": 319,
   "id": "d48f7181",
   "metadata": {},
   "outputs": [],
   "source": []
  },
  {
   "cell_type": "code",
   "execution_count": 289,
   "id": "eeebbc64",
   "metadata": {},
   "outputs": [
    {
     "ename": "TypeError",
     "evalue": "reset_index() got an unexpected keyword argument 'name'",
     "output_type": "error",
     "traceback": [
      "\u001b[1;31m---------------------------------------------------------------------------\u001b[0m",
      "\u001b[1;31mTypeError\u001b[0m                                 Traceback (most recent call last)",
      "\u001b[1;32m<ipython-input-289-e543b8f6d26b>\u001b[0m in \u001b[0;36m<module>\u001b[1;34m\u001b[0m\n\u001b[1;32m----> 1\u001b[1;33m \u001b[0mdf_1\u001b[0m\u001b[1;33m.\u001b[0m\u001b[0mgroupby\u001b[0m\u001b[1;33m(\u001b[0m\u001b[1;33m[\u001b[0m\u001b[1;34m'SOURCE_SUBREDDIT'\u001b[0m\u001b[1;33m]\u001b[0m\u001b[1;33m)\u001b[0m\u001b[1;33m.\u001b[0m\u001b[0msum\u001b[0m\u001b[1;33m(\u001b[0m\u001b[1;33m)\u001b[0m\u001b[1;33m.\u001b[0m\u001b[0mreset_index\u001b[0m\u001b[1;33m(\u001b[0m\u001b[0mname\u001b[0m\u001b[1;33m=\u001b[0m\u001b[1;34m'counts'\u001b[0m\u001b[1;33m)\u001b[0m\u001b[1;33m\u001b[0m\u001b[1;33m\u001b[0m\u001b[0m\n\u001b[0m",
      "\u001b[1;31mTypeError\u001b[0m: reset_index() got an unexpected keyword argument 'name'"
     ]
    }
   ],
   "source": []
  },
  {
   "cell_type": "code",
   "execution_count": 115,
   "id": "df8f7782",
   "metadata": {},
   "outputs": [],
   "source": []
  },
  {
   "cell_type": "code",
   "execution_count": 119,
   "id": "3c1320b3",
   "metadata": {},
   "outputs": [],
   "source": []
  },
  {
   "cell_type": "code",
   "execution_count": 120,
   "id": "d0a6979e",
   "metadata": {},
   "outputs": [
    {
     "name": "stdout",
     "output_type": "stream",
     "text": [
      "<class 'pandas.core.frame.DataFrame'>\n",
      "RangeIndex: 571927 entries, 0 to 571926\n",
      "Data columns (total 10 columns):\n",
      " #   Column            Non-Null Count   Dtype \n",
      "---  ------            --------------   ----- \n",
      " 0   SOURCE_SUBREDDIT  571927 non-null  object\n",
      " 1   TARGET_SUBREDDIT  571927 non-null  object\n",
      " 2   POST_ID           571927 non-null  object\n",
      " 3   TIMESTAMP         571927 non-null  object\n",
      " 4   LINK_SENTIMENT    571927 non-null  int64 \n",
      " 5   PROPERTIES        571927 non-null  object\n",
      " 6   year              571927 non-null  int64 \n",
      " 7   date              571927 non-null  object\n",
      " 8   month             571927 non-null  int64 \n",
      " 9   day               571927 non-null  int64 \n",
      "dtypes: int64(4), object(6)\n",
      "memory usage: 43.6+ MB\n"
     ]
    }
   ],
   "source": []
  },
  {
   "cell_type": "code",
   "execution_count": null,
   "id": "083d55a8",
   "metadata": {},
   "outputs": [],
   "source": []
  },
  {
   "cell_type": "code",
   "execution_count": 4,
   "id": "b295c6ad",
   "metadata": {},
   "outputs": [],
   "source": [
    "source =['usa', 'america', 'us', 'unitedstates','usofa', 'unitedstatesofamerica', 'US','USA','USofA','UnitedStatesofAmerica', 'whitehouse', 'republican','democrats','WhiteHouse','Alabama','Alaska','Arizona','Arkansas','California','Colorado','Connecticut','Delaware','Florida','Georgia','Hawaii','Idaho','Illinois','Indiana','Iowa','Kansas','Kentucky','Louisiana','Maine','Maryland','Massachusetts','Michigan','Minnesota','Mississippi','Missouri','Montana','Nebraska','Nevada','New Hampshire','New Jersey','New Mexico','New York','North Carolina','North Dakota','Ohio','Oklahoma','Oregon','Pennsylvania','Rhode Island','South Carolina','South Dakota','Tennessee','Texas','Utah','Vermont','Virginia','Washington','West Virginia','Wisconsin','Wyoming']\n",
    "target = ['guns','violence','black','muslin','islam','terrorism','crime','drugs','BLM','antivaccer','racewar','racism','shoot','riot','protest','assualt','suicide','kill','death','bomb','rape','sexual','bully','harass','porn']\n",
    "pattern1 = '|'.join(source)\n",
    "pattern2 = '|'.join(target)"
   ]
  },
  {
   "cell_type": "code",
   "execution_count": 282,
   "id": "b948150d",
   "metadata": {},
   "outputs": [],
   "source": [
    "source2 =['stock','wallstreet','bets']\n",
    "target2 = ['guns','violence','terror','crime','drugs','BLM','antivaccer','shoot','riot','protest','assualt','suicide','kill','death','bomb','rape','sexual','bully','harass','kidnap','abduct']\n",
    "crime_race = ['black','muslim','islam','racewar','racism','riot','protest','assualt','white','asian']\n",
    "pattern11 = '|'.join(source2)\n",
    "pattern2 = '|'.join(target2)\n",
    "pattern3 =  '|'.join(crime_race)"
   ]
  },
  {
   "cell_type": "code",
   "execution_count": 270,
   "id": "7bed6a02",
   "metadata": {
    "scrolled": true
   },
   "outputs": [],
   "source": [
    "df_graph= df_title.loc[(df_title['SOURCE_SUBREDDIT'].str.contains(pattern1,case=False)) & (df_title['TARGET_SUBREDDIT'].str.contains('politics',case=False))]"
   ]
  },
  {
   "cell_type": "code",
   "execution_count": 7,
   "id": "ba78af71",
   "metadata": {},
   "outputs": [],
   "source": [
    "USA = df_title.loc[(df_title['SOURCE_SUBREDDIT'].str.contains(pattern1,case=False))]"
   ]
  },
  {
   "cell_type": "code",
   "execution_count": 283,
   "id": "1eef1f0f",
   "metadata": {},
   "outputs": [],
   "source": [
    "america_crime = df_title.loc[(df_title['SOURCE_SUBREDDIT'].str.contains(pattern1,case=False)) & (df_title['TARGET_SUBREDDIT'].str.contains(pattern2,case=False))]"
   ]
  },
  {
   "cell_type": "code",
   "execution_count": 281,
   "id": "d4b0c542",
   "metadata": {},
   "outputs": [],
   "source": [
    "america_race = df_title.loc[(df_title['SOURCE_SUBREDDIT'].str.contains(pattern1,case=False)) & (df_title['TARGET_SUBREDDIT'].str.contains(pattern3,case=False))]"
   ]
  },
  {
   "cell_type": "code",
   "execution_count": 285,
   "id": "a891433d",
   "metadata": {},
   "outputs": [],
   "source": [
    "america_race.to_csv(\"race.csv\")"
   ]
  },
  {
   "cell_type": "code",
   "execution_count": 284,
   "id": "195a67c9",
   "metadata": {},
   "outputs": [],
   "source": [
    "america_crime.to_csv(\"crime_overall.csv\")"
   ]
  },
  {
   "cell_type": "code",
   "execution_count": 207,
   "id": "d56d118c",
   "metadata": {},
   "outputs": [],
   "source": [
    "df_911.to_csv(\"911_data.csv\")"
   ]
  },
  {
   "cell_type": "code",
   "execution_count": 203,
   "id": "38671753",
   "metadata": {
    "scrolled": true
   },
   "outputs": [],
   "source": [
    "df_graph.to_csv(\"nodes.csv\")"
   ]
  },
  {
   "cell_type": "code",
   "execution_count": 22,
   "id": "e1af986d",
   "metadata": {
    "scrolled": true
   },
   "outputs": [],
   "source": [
    "#new_frame=df_body.groupby('SOURCE_SUBREDDIT')\n"
   ]
  },
  {
   "cell_type": "code",
   "execution_count": 8,
   "id": "60243e7d",
   "metadata": {},
   "outputs": [],
   "source": [
    "USA.to_csv(\"usa.csv\")"
   ]
  },
  {
   "cell_type": "code",
   "execution_count": 23,
   "id": "2b29bd3c",
   "metadata": {},
   "outputs": [],
   "source": [
    "source_list_body = df_body['SOURCE_SUBREDDIT']\n",
    "source_list_body = source_list_body.unique().tolist()"
   ]
  },
  {
   "cell_type": "code",
   "execution_count": 24,
   "id": "fd0aee4c",
   "metadata": {},
   "outputs": [],
   "source": [
    "target_list_body = df_body['TARGET_SUBREDDIT']\n",
    "target_list_body = target_list_body.unique().tolist()"
   ]
  },
  {
   "cell_type": "code",
   "execution_count": 25,
   "id": "e5139228",
   "metadata": {},
   "outputs": [],
   "source": [
    "list_source_target = source_list_body\n",
    "list_source_target.extend(target_list_body)"
   ]
  },
  {
   "cell_type": "code",
   "execution_count": 26,
   "id": "19094250",
   "metadata": {
    "scrolled": true
   },
   "outputs": [
    {
     "name": "stdout",
     "output_type": "stream",
     "text": [
      "Unique Vertices - 35776\n"
     ]
    }
   ],
   "source": [
    "Vertices = list(dict.fromkeys(source_list_body))\n",
    "Vertices.sort()\n",
    "print(\"Unique Vertices -\",len(Vertices))"
   ]
  },
  {
   "cell_type": "code",
   "execution_count": 27,
   "id": "1a48af6e",
   "metadata": {},
   "outputs": [
    {
     "name": "stdout",
     "output_type": "stream",
     "text": [
      "Unique Edges - 137821\n"
     ]
    }
   ],
   "source": [
    "x_edges = zip(df_body['SOURCE_SUBREDDIT'],df_body['TARGET_SUBREDDIT'])\n",
    "Edge_list = list(x_edges)\n",
    "Edges_list = list(dict.fromkeys(Edge_list))\n",
    "print(\"Unique Edges -\",len(Edges_list))"
   ]
  },
  {
   "cell_type": "code",
   "execution_count": 28,
   "id": "6346e98a",
   "metadata": {},
   "outputs": [],
   "source": [
    "vert = len(Vertices)\n",
    "\n",
    "A_Mat = np.zeros((vert,vert),dtype=int)\n",
    "for i in Edges_list:\n",
    "    a = Vertices.index(i[0])\n",
    "    b = Vertices.index(i[1])\n",
    "    A_Mat[a][b]=1"
   ]
  },
  {
   "cell_type": "code",
   "execution_count": 29,
   "id": "cb11bfba",
   "metadata": {
    "scrolled": true
   },
   "outputs": [],
   "source": [
    "#change code\n",
    "Adj_list = list()\n",
    "for s in range(vert):\n",
    "    Adj_list.append([])\n",
    "\n",
    "for i in Edges_list:\n",
    "    a = Vertices.index(i[0])\n",
    "    b = Vertices.index(i[1])\n",
    "\n",
    "    Adj_list[a].append(i[1])"
   ]
  },
  {
   "cell_type": "code",
   "execution_count": 30,
   "id": "23f21e61",
   "metadata": {},
   "outputs": [],
   "source": [
    "V_count = 0    \n",
    "out_degree = dict()\n",
    "cnt = list()\n",
    "for i in range(len(Adj_list)):\n",
    "    V_count = len(Adj_list[i])\n",
    "    x = [Vertices[i],V_count]\n",
    "    cnt.append(x)\n",
    "    out_degree[Vertices[i]] = Adj_list[i]"
   ]
  },
  {
   "cell_type": "code",
   "execution_count": 31,
   "id": "0eafcb47",
   "metadata": {},
   "outputs": [],
   "source": [
    "def custom_clust(elem):\n",
    "    return(elem[1])\n",
    "\n",
    "def custom_func(elem):\n",
    "    return(elem[1])"
   ]
  },
  {
   "cell_type": "code",
   "execution_count": 32,
   "id": "bc5784fb",
   "metadata": {},
   "outputs": [],
   "source": [
    "cnt.sort(key=custom_func,reverse=True)\n",
    "cnt\n",
    "cnt_new = cnt[:10]\n",
    "popularName = [x[0] for x in cnt_new]\n",
    "popularNo = [x[1] for x in cnt_new]\n",
    "y_pos = np.arange(len(popularName))"
   ]
  },
  {
   "cell_type": "code",
   "execution_count": 33,
   "id": "8e5ba199",
   "metadata": {},
   "outputs": [
    {
     "data": {
      "text/plain": [
       "['subredditdrama',\n",
       " 'copypasta',\n",
       " 'drama',\n",
       " 'subredditoftheday',\n",
       " 'outoftheloop',\n",
       " 'circlejerkcopypasta',\n",
       " 'tipofmypenis',\n",
       " 'shitliberalssay',\n",
       " 'justunsubbed',\n",
       " 'conspiracy']"
      ]
     },
     "execution_count": 33,
     "metadata": {},
     "output_type": "execute_result"
    }
   ],
   "source": [
    "popularName"
   ]
  },
  {
   "cell_type": "code",
   "execution_count": 34,
   "id": "f7ba9841",
   "metadata": {
    "scrolled": true
   },
   "outputs": [
    {
     "data": {
      "image/png": "[encoded data removed]",
      "text/plain": [
       "<Figure size 1008x576 with 1 Axes>"
      ]
     },
     "metadata": {
      "needs_background": "light"
     },
     "output_type": "display_data"
    }
   ],
   "source": [
    "plt.figure(figsize=(14, 8))\n",
    "plt.barh(popularName, popularNo)\n",
    "#plt.bar(y_pos, popularNo, align='center', alpha=0.8,color='#F78F1E')\n",
    "#plt.xticks(y_pos, popularName,rotation='vertical')\n",
    "plt.ylabel('Connections')\n",
    "plt.title('Popular Subreddits')\n",
    "plt.show()"
   ]
  },
  {
   "cell_type": "code",
   "execution_count": 35,
   "id": "2307fa79",
   "metadata": {},
   "outputs": [
    {
     "name": "stderr",
     "output_type": "stream",
     "text": [
      "<ipython-input-35-4b0d455dae86>:3: UserWarning: FixedFormatter should only be used together with FixedLocator\n",
      "  ax.set_xticklabels(popularName, rotation=45)\n"
     ]
    },
    {
     "data": {
      "image/png": "[encoded data removed]",
      "text/plain": [
       "<Figure size 432x288 with 1 Axes>"
      ]
     },
     "metadata": {
      "needs_background": "light"
     },
     "output_type": "display_data"
    }
   ],
   "source": [
    "fig,ax= plt.subplots()\n",
    "ax.bar(popularName, popularNo)[0].set_color(\"green\")\n",
    "ax.set_xticklabels(popularName, rotation=45)\n",
    "ax.set_xlabel(\"Subreddit names\")\n",
    "ax.set_ylabel(\"Connections\")\n",
    "ax.plot(popularName,popularNo, color='red', marker ='o', linestyle = 'dashed', linewidth = 2)\n",
    "plt.show()"
   ]
  },
  {
   "cell_type": "code",
   "execution_count": 36,
   "id": "ff18d71a",
   "metadata": {},
   "outputs": [
    {
     "data": {
      "text/html": [
       "<div>\n",
       "<style scoped>\n",
       "    .dataframe tbody tr th:only-of-type {\n",
       "        vertical-align: middle;\n",
       "    }\n",
       "\n",
       "    .dataframe tbody tr th {\n",
       "        vertical-align: top;\n",
       "    }\n",
       "\n",
       "    .dataframe thead th {\n",
       "        text-align: right;\n",
       "    }\n",
       "</style>\n",
       "<table border=\"1\" class=\"dataframe\">\n",
       "  <thead>\n",
       "    <tr style=\"text-align: right;\">\n",
       "      <th></th>\n",
       "      <th>SOURCE_SUBREDDIT</th>\n",
       "      <th>LINK_SENTIMENT</th>\n",
       "      <th>counts</th>\n",
       "    </tr>\n",
       "  </thead>\n",
       "  <tbody>\n",
       "    <tr>\n",
       "      <th>26225</th>\n",
       "      <td>subredditdrama</td>\n",
       "      <td>1</td>\n",
       "      <td>3228</td>\n",
       "    </tr>\n",
       "    <tr>\n",
       "      <th>19677</th>\n",
       "      <td>outoftheloop</td>\n",
       "      <td>1</td>\n",
       "      <td>1820</td>\n",
       "    </tr>\n",
       "    <tr>\n",
       "      <th>5095</th>\n",
       "      <td>circlebroke</td>\n",
       "      <td>1</td>\n",
       "      <td>1656</td>\n",
       "    </tr>\n",
       "    <tr>\n",
       "      <th>24468</th>\n",
       "      <td>shitliberalssay</td>\n",
       "      <td>1</td>\n",
       "      <td>1561</td>\n",
       "    </tr>\n",
       "    <tr>\n",
       "      <th>5972</th>\n",
       "      <td>copypasta</td>\n",
       "      <td>1</td>\n",
       "      <td>1452</td>\n",
       "    </tr>\n",
       "    <tr>\n",
       "      <th>...</th>\n",
       "      <td>...</td>\n",
       "      <td>...</td>\n",
       "      <td>...</td>\n",
       "    </tr>\n",
       "    <tr>\n",
       "      <th>14322</th>\n",
       "      <td>kats_sexstories</td>\n",
       "      <td>1</td>\n",
       "      <td>1</td>\n",
       "    </tr>\n",
       "    <tr>\n",
       "      <th>14318</th>\n",
       "      <td>kateesackhoff</td>\n",
       "      <td>1</td>\n",
       "      <td>1</td>\n",
       "    </tr>\n",
       "    <tr>\n",
       "      <th>14317</th>\n",
       "      <td>kateeowen</td>\n",
       "      <td>1</td>\n",
       "      <td>1</td>\n",
       "    </tr>\n",
       "    <tr>\n",
       "      <th>14315</th>\n",
       "      <td>katastrophic</td>\n",
       "      <td>1</td>\n",
       "      <td>1</td>\n",
       "    </tr>\n",
       "    <tr>\n",
       "      <th>31432</th>\n",
       "      <td>zzseries</td>\n",
       "      <td>1</td>\n",
       "      <td>1</td>\n",
       "    </tr>\n",
       "  </tbody>\n",
       "</table>\n",
       "<p>31433 rows × 3 columns</p>\n",
       "</div>"
      ],
      "text/plain": [
       "      SOURCE_SUBREDDIT  LINK_SENTIMENT  counts\n",
       "26225   subredditdrama               1    3228\n",
       "19677     outoftheloop               1    1820\n",
       "5095       circlebroke               1    1656\n",
       "24468  shitliberalssay               1    1561\n",
       "5972         copypasta               1    1452\n",
       "...                ...             ...     ...\n",
       "14322  kats_sexstories               1       1\n",
       "14318    kateesackhoff               1       1\n",
       "14317        kateeowen               1       1\n",
       "14315     katastrophic               1       1\n",
       "31432         zzseries               1       1\n",
       "\n",
       "[31433 rows x 3 columns]"
      ]
     },
     "execution_count": 36,
     "metadata": {},
     "output_type": "execute_result"
    }
   ],
   "source": [
    "new_frame = df_body.groupby(['SOURCE_SUBREDDIT','LINK_SENTIMENT']).size().reset_index(name='counts')\n",
    "new_frame.sort_values('counts',ascending=False)"
   ]
  },
  {
   "cell_type": "code",
   "execution_count": 37,
   "id": "1c849960",
   "metadata": {
    "scrolled": true
   },
   "outputs": [],
   "source": [
    "new_frame_positive = new_frame.loc[new_frame['LINK_SENTIMENT'] == 1]\n",
    "new_frame_positive = new_frame_positive.sort_values('counts',ascending=False)"
   ]
  },
  {
   "cell_type": "code",
   "execution_count": 38,
   "id": "781f814c",
   "metadata": {},
   "outputs": [],
   "source": [
    "new_frame_negative = new_frame.loc[new_frame['LINK_SENTIMENT'] == -1]\n",
    "new_frame_negative= new_frame_negative.sort_values('counts',ascending=False)"
   ]
  },
  {
   "cell_type": "code",
   "execution_count": 39,
   "id": "a9021e0e",
   "metadata": {},
   "outputs": [],
   "source": [
    "new_frame_positive=new_frame_positive.head(10)"
   ]
  },
  {
   "cell_type": "code",
   "execution_count": 40,
   "id": "73cd72c1",
   "metadata": {},
   "outputs": [
    {
     "data": {
      "text/html": [
       "<div>\n",
       "<style scoped>\n",
       "    .dataframe tbody tr th:only-of-type {\n",
       "        vertical-align: middle;\n",
       "    }\n",
       "\n",
       "    .dataframe tbody tr th {\n",
       "        vertical-align: top;\n",
       "    }\n",
       "\n",
       "    .dataframe thead th {\n",
       "        text-align: right;\n",
       "    }\n",
       "</style>\n",
       "<table border=\"1\" class=\"dataframe\">\n",
       "  <thead>\n",
       "    <tr style=\"text-align: right;\">\n",
       "      <th></th>\n",
       "      <th>SOURCE_SUBREDDIT</th>\n",
       "      <th>LINK_SENTIMENT</th>\n",
       "      <th>counts</th>\n",
       "    </tr>\n",
       "  </thead>\n",
       "  <tbody>\n",
       "    <tr>\n",
       "      <th>26225</th>\n",
       "      <td>subredditdrama</td>\n",
       "      <td>1</td>\n",
       "      <td>3228</td>\n",
       "    </tr>\n",
       "    <tr>\n",
       "      <th>19677</th>\n",
       "      <td>outoftheloop</td>\n",
       "      <td>1</td>\n",
       "      <td>1820</td>\n",
       "    </tr>\n",
       "    <tr>\n",
       "      <th>5095</th>\n",
       "      <td>circlebroke</td>\n",
       "      <td>1</td>\n",
       "      <td>1656</td>\n",
       "    </tr>\n",
       "    <tr>\n",
       "      <th>24468</th>\n",
       "      <td>shitliberalssay</td>\n",
       "      <td>1</td>\n",
       "      <td>1561</td>\n",
       "    </tr>\n",
       "    <tr>\n",
       "      <th>5972</th>\n",
       "      <td>copypasta</td>\n",
       "      <td>1</td>\n",
       "      <td>1452</td>\n",
       "    </tr>\n",
       "    <tr>\n",
       "      <th>11962</th>\n",
       "      <td>hailcorporate</td>\n",
       "      <td>1</td>\n",
       "      <td>1432</td>\n",
       "    </tr>\n",
       "    <tr>\n",
       "      <th>30951</th>\n",
       "      <td>writingprompts</td>\n",
       "      <td>1</td>\n",
       "      <td>1420</td>\n",
       "    </tr>\n",
       "    <tr>\n",
       "      <th>4044</th>\n",
       "      <td>buildapc</td>\n",
       "      <td>1</td>\n",
       "      <td>1304</td>\n",
       "    </tr>\n",
       "    <tr>\n",
       "      <th>28193</th>\n",
       "      <td>tipofmypenis</td>\n",
       "      <td>1</td>\n",
       "      <td>1201</td>\n",
       "    </tr>\n",
       "    <tr>\n",
       "      <th>5889</th>\n",
       "      <td>conspiracy</td>\n",
       "      <td>1</td>\n",
       "      <td>1181</td>\n",
       "    </tr>\n",
       "  </tbody>\n",
       "</table>\n",
       "</div>"
      ],
      "text/plain": [
       "      SOURCE_SUBREDDIT  LINK_SENTIMENT  counts\n",
       "26225   subredditdrama               1    3228\n",
       "19677     outoftheloop               1    1820\n",
       "5095       circlebroke               1    1656\n",
       "24468  shitliberalssay               1    1561\n",
       "5972         copypasta               1    1452\n",
       "11962    hailcorporate               1    1432\n",
       "30951   writingprompts               1    1420\n",
       "4044          buildapc               1    1304\n",
       "28193     tipofmypenis               1    1201\n",
       "5889        conspiracy               1    1181"
      ]
     },
     "execution_count": 40,
     "metadata": {},
     "output_type": "execute_result"
    }
   ],
   "source": [
    "new_frame_positive"
   ]
  },
  {
   "cell_type": "code",
   "execution_count": 41,
   "id": "bfccd23c",
   "metadata": {},
   "outputs": [],
   "source": [
    "new_frame_negative=new_frame_negative.head(10)"
   ]
  },
  {
   "cell_type": "code",
   "execution_count": 42,
   "id": "93bf1562",
   "metadata": {},
   "outputs": [
    {
     "data": {
      "text/html": [
       "<div>\n",
       "<style scoped>\n",
       "    .dataframe tbody tr th:only-of-type {\n",
       "        vertical-align: middle;\n",
       "    }\n",
       "\n",
       "    .dataframe tbody tr th {\n",
       "        vertical-align: top;\n",
       "    }\n",
       "\n",
       "    .dataframe thead th {\n",
       "        text-align: right;\n",
       "    }\n",
       "</style>\n",
       "<table border=\"1\" class=\"dataframe\">\n",
       "  <thead>\n",
       "    <tr style=\"text-align: right;\">\n",
       "      <th></th>\n",
       "      <th>SOURCE_SUBREDDIT</th>\n",
       "      <th>LINK_SENTIMENT</th>\n",
       "      <th>counts</th>\n",
       "    </tr>\n",
       "  </thead>\n",
       "  <tbody>\n",
       "    <tr>\n",
       "      <th>26224</th>\n",
       "      <td>subredditdrama</td>\n",
       "      <td>-1</td>\n",
       "      <td>1437</td>\n",
       "    </tr>\n",
       "    <tr>\n",
       "      <th>5094</th>\n",
       "      <td>circlebroke</td>\n",
       "      <td>-1</td>\n",
       "      <td>702</td>\n",
       "    </tr>\n",
       "    <tr>\n",
       "      <th>8025</th>\n",
       "      <td>drama</td>\n",
       "      <td>-1</td>\n",
       "      <td>518</td>\n",
       "    </tr>\n",
       "    <tr>\n",
       "      <th>24467</th>\n",
       "      <td>shitliberalssay</td>\n",
       "      <td>-1</td>\n",
       "      <td>407</td>\n",
       "    </tr>\n",
       "    <tr>\n",
       "      <th>5114</th>\n",
       "      <td>circlejerkcopypasta</td>\n",
       "      <td>-1</td>\n",
       "      <td>380</td>\n",
       "    </tr>\n",
       "    <tr>\n",
       "      <th>5971</th>\n",
       "      <td>copypasta</td>\n",
       "      <td>-1</td>\n",
       "      <td>372</td>\n",
       "    </tr>\n",
       "    <tr>\n",
       "      <th>30950</th>\n",
       "      <td>writingprompts</td>\n",
       "      <td>-1</td>\n",
       "      <td>287</td>\n",
       "    </tr>\n",
       "    <tr>\n",
       "      <th>5888</th>\n",
       "      <td>conspiracy</td>\n",
       "      <td>-1</td>\n",
       "      <td>281</td>\n",
       "    </tr>\n",
       "    <tr>\n",
       "      <th>3041</th>\n",
       "      <td>bestofoutrageculture</td>\n",
       "      <td>-1</td>\n",
       "      <td>229</td>\n",
       "    </tr>\n",
       "    <tr>\n",
       "      <th>14282</th>\n",
       "      <td>karmacourt</td>\n",
       "      <td>-1</td>\n",
       "      <td>210</td>\n",
       "    </tr>\n",
       "  </tbody>\n",
       "</table>\n",
       "</div>"
      ],
      "text/plain": [
       "           SOURCE_SUBREDDIT  LINK_SENTIMENT  counts\n",
       "26224        subredditdrama              -1    1437\n",
       "5094            circlebroke              -1     702\n",
       "8025                  drama              -1     518\n",
       "24467       shitliberalssay              -1     407\n",
       "5114    circlejerkcopypasta              -1     380\n",
       "5971              copypasta              -1     372\n",
       "30950        writingprompts              -1     287\n",
       "5888             conspiracy              -1     281\n",
       "3041   bestofoutrageculture              -1     229\n",
       "14282            karmacourt              -1     210"
      ]
     },
     "execution_count": 42,
     "metadata": {},
     "output_type": "execute_result"
    }
   ],
   "source": [
    "new_frame_negative"
   ]
  },
  {
   "cell_type": "code",
   "execution_count": 43,
   "id": "98a6211a",
   "metadata": {},
   "outputs": [
    {
     "data": {
      "text/plain": [
       "<BarContainer object of 10 artists>"
      ]
     },
     "execution_count": 43,
     "metadata": {},
     "output_type": "execute_result"
    },
    {
     "data": {
      "image/png": "[encoded data removed]",
      "text/plain": [
       "<Figure size 432x288 with 1 Axes>"
      ]
     },
     "metadata": {
      "needs_background": "light"
     },
     "output_type": "display_data"
    }
   ],
   "source": [
    "fig,ax= plt.subplots()\n",
    "ax.barh(new_frame_positive['SOURCE_SUBREDDIT'],new_frame_positive['counts'],color='green')\n",
    "ax.barh(new_frame_positive['SOURCE_SUBREDDIT'],new_frame_negative['counts'],color='red')"
   ]
  },
  {
   "cell_type": "code",
   "execution_count": 44,
   "id": "a83fa583",
   "metadata": {
    "scrolled": true
   },
   "outputs": [],
   "source": [
    "df_body['year'] = pd.DatetimeIndex(df_body['TIMESTAMP']).year\n",
    "df_body['date']=pd.to_datetime(df_body['TIMESTAMP']).dt.date\n",
    "df_body['month']=pd.to_datetime(df_body.TIMESTAMP,format='%Y-%m-%d %H:%M:%S').dt.month\n",
    "df_body['day']=pd.to_datetime(df_body.TIMESTAMP,format='%Y-%m-%d %H:%M:%S').dt.day"
   ]
  },
  {
   "cell_type": "code",
   "execution_count": 45,
   "id": "e2a2ec74",
   "metadata": {},
   "outputs": [
    {
     "data": {
      "text/html": [
       "<div>\n",
       "<style scoped>\n",
       "    .dataframe tbody tr th:only-of-type {\n",
       "        vertical-align: middle;\n",
       "    }\n",
       "\n",
       "    .dataframe tbody tr th {\n",
       "        vertical-align: top;\n",
       "    }\n",
       "\n",
       "    .dataframe thead th {\n",
       "        text-align: right;\n",
       "    }\n",
       "</style>\n",
       "<table border=\"1\" class=\"dataframe\">\n",
       "  <thead>\n",
       "    <tr style=\"text-align: right;\">\n",
       "      <th></th>\n",
       "      <th>SOURCE_SUBREDDIT</th>\n",
       "      <th>TARGET_SUBREDDIT</th>\n",
       "      <th>POST_ID</th>\n",
       "      <th>TIMESTAMP</th>\n",
       "      <th>LINK_SENTIMENT</th>\n",
       "      <th>PROPERTIES</th>\n",
       "      <th>year</th>\n",
       "      <th>date</th>\n",
       "      <th>month</th>\n",
       "      <th>day</th>\n",
       "    </tr>\n",
       "  </thead>\n",
       "  <tbody>\n",
       "    <tr>\n",
       "      <th>0</th>\n",
       "      <td>leagueoflegends</td>\n",
       "      <td>teamredditteams</td>\n",
       "      <td>1u4nrps</td>\n",
       "      <td>2013-12-31 16:39:58</td>\n",
       "      <td>1</td>\n",
       "      <td>345.0,298.0,0.75652173913,0.0173913043478,0.08...</td>\n",
       "      <td>2013</td>\n",
       "      <td>2013-12-31</td>\n",
       "      <td>12</td>\n",
       "      <td>31</td>\n",
       "    </tr>\n",
       "    <tr>\n",
       "      <th>1</th>\n",
       "      <td>theredlion</td>\n",
       "      <td>soccer</td>\n",
       "      <td>1u4qkd</td>\n",
       "      <td>2013-12-31 18:18:37</td>\n",
       "      <td>-1</td>\n",
       "      <td>101.0,98.0,0.742574257426,0.019801980198,0.049...</td>\n",
       "      <td>2013</td>\n",
       "      <td>2013-12-31</td>\n",
       "      <td>12</td>\n",
       "      <td>31</td>\n",
       "    </tr>\n",
       "    <tr>\n",
       "      <th>2</th>\n",
       "      <td>inlandempire</td>\n",
       "      <td>bikela</td>\n",
       "      <td>1u4qlzs</td>\n",
       "      <td>2014-01-01 14:54:35</td>\n",
       "      <td>1</td>\n",
       "      <td>85.0,85.0,0.752941176471,0.0235294117647,0.082...</td>\n",
       "      <td>2014</td>\n",
       "      <td>2014-01-01</td>\n",
       "      <td>1</td>\n",
       "      <td>1</td>\n",
       "    </tr>\n",
       "    <tr>\n",
       "      <th>3</th>\n",
       "      <td>nfl</td>\n",
       "      <td>cfb</td>\n",
       "      <td>1u4sjvs</td>\n",
       "      <td>2013-12-31 17:37:55</td>\n",
       "      <td>1</td>\n",
       "      <td>1124.0,949.0,0.772241992883,0.0017793594306,0....</td>\n",
       "      <td>2013</td>\n",
       "      <td>2013-12-31</td>\n",
       "      <td>12</td>\n",
       "      <td>31</td>\n",
       "    </tr>\n",
       "    <tr>\n",
       "      <th>4</th>\n",
       "      <td>playmygame</td>\n",
       "      <td>gamedev</td>\n",
       "      <td>1u4w5ss</td>\n",
       "      <td>2014-01-01 02:51:13</td>\n",
       "      <td>1</td>\n",
       "      <td>715.0,622.0,0.777622377622,0.00699300699301,0....</td>\n",
       "      <td>2014</td>\n",
       "      <td>2014-01-01</td>\n",
       "      <td>1</td>\n",
       "      <td>1</td>\n",
       "    </tr>\n",
       "    <tr>\n",
       "      <th>...</th>\n",
       "      <td>...</td>\n",
       "      <td>...</td>\n",
       "      <td>...</td>\n",
       "      <td>...</td>\n",
       "      <td>...</td>\n",
       "      <td>...</td>\n",
       "      <td>...</td>\n",
       "      <td>...</td>\n",
       "      <td>...</td>\n",
       "      <td>...</td>\n",
       "    </tr>\n",
       "    <tr>\n",
       "      <th>286556</th>\n",
       "      <td>negareddit</td>\n",
       "      <td>debatefascism</td>\n",
       "      <td>68im20s</td>\n",
       "      <td>2017-04-30 16:31:26</td>\n",
       "      <td>1</td>\n",
       "      <td>441.0,405.0,0.775510204082,0.0294784580499,0.0...</td>\n",
       "      <td>2017</td>\n",
       "      <td>2017-04-30</td>\n",
       "      <td>4</td>\n",
       "      <td>30</td>\n",
       "    </tr>\n",
       "    <tr>\n",
       "      <th>286557</th>\n",
       "      <td>mildlynomil</td>\n",
       "      <td>justnomil</td>\n",
       "      <td>68imlas</td>\n",
       "      <td>2017-04-30 04:19:03</td>\n",
       "      <td>1</td>\n",
       "      <td>2226.0,1855.0,0.786163522013,0.00224618149146,...</td>\n",
       "      <td>2017</td>\n",
       "      <td>2017-04-30</td>\n",
       "      <td>4</td>\n",
       "      <td>30</td>\n",
       "    </tr>\n",
       "    <tr>\n",
       "      <th>286558</th>\n",
       "      <td>mmorpg</td>\n",
       "      <td>blackdesertonline</td>\n",
       "      <td>68ip5os</td>\n",
       "      <td>2017-04-30 16:54:08</td>\n",
       "      <td>1</td>\n",
       "      <td>1100.0,909.0,0.778181818182,0.00181818181818,0...</td>\n",
       "      <td>2017</td>\n",
       "      <td>2017-04-30</td>\n",
       "      <td>4</td>\n",
       "      <td>30</td>\n",
       "    </tr>\n",
       "    <tr>\n",
       "      <th>286559</th>\n",
       "      <td>electricskateboards</td>\n",
       "      <td>askreddit</td>\n",
       "      <td>68ipb2s</td>\n",
       "      <td>2017-04-30 16:41:53</td>\n",
       "      <td>1</td>\n",
       "      <td>1876.0,1567.0,0.78144989339,0.00692963752665,0...</td>\n",
       "      <td>2017</td>\n",
       "      <td>2017-04-30</td>\n",
       "      <td>4</td>\n",
       "      <td>30</td>\n",
       "    </tr>\n",
       "    <tr>\n",
       "      <th>286560</th>\n",
       "      <td>mgtow</td>\n",
       "      <td>dataisbeautiful</td>\n",
       "      <td>68ipeos</td>\n",
       "      <td>2017-04-30 16:52:59</td>\n",
       "      <td>1</td>\n",
       "      <td>1129.0,975.0,0.795394154119,0.0150575730735,0....</td>\n",
       "      <td>2017</td>\n",
       "      <td>2017-04-30</td>\n",
       "      <td>4</td>\n",
       "      <td>30</td>\n",
       "    </tr>\n",
       "  </tbody>\n",
       "</table>\n",
       "<p>286561 rows × 10 columns</p>\n",
       "</div>"
      ],
      "text/plain": [
       "           SOURCE_SUBREDDIT   TARGET_SUBREDDIT  POST_ID            TIMESTAMP  \\\n",
       "0           leagueoflegends    teamredditteams  1u4nrps  2013-12-31 16:39:58   \n",
       "1                theredlion             soccer   1u4qkd  2013-12-31 18:18:37   \n",
       "2              inlandempire             bikela  1u4qlzs  2014-01-01 14:54:35   \n",
       "3                       nfl                cfb  1u4sjvs  2013-12-31 17:37:55   \n",
       "4                playmygame            gamedev  1u4w5ss  2014-01-01 02:51:13   \n",
       "...                     ...                ...      ...                  ...   \n",
       "286556           negareddit      debatefascism  68im20s  2017-04-30 16:31:26   \n",
       "286557          mildlynomil          justnomil  68imlas  2017-04-30 04:19:03   \n",
       "286558               mmorpg  blackdesertonline  68ip5os  2017-04-30 16:54:08   \n",
       "286559  electricskateboards          askreddit  68ipb2s  2017-04-30 16:41:53   \n",
       "286560                mgtow    dataisbeautiful  68ipeos  2017-04-30 16:52:59   \n",
       "\n",
       "        LINK_SENTIMENT                                         PROPERTIES  \\\n",
       "0                    1  345.0,298.0,0.75652173913,0.0173913043478,0.08...   \n",
       "1                   -1  101.0,98.0,0.742574257426,0.019801980198,0.049...   \n",
       "2                    1  85.0,85.0,0.752941176471,0.0235294117647,0.082...   \n",
       "3                    1  1124.0,949.0,0.772241992883,0.0017793594306,0....   \n",
       "4                    1  715.0,622.0,0.777622377622,0.00699300699301,0....   \n",
       "...                ...                                                ...   \n",
       "286556               1  441.0,405.0,0.775510204082,0.0294784580499,0.0...   \n",
       "286557               1  2226.0,1855.0,0.786163522013,0.00224618149146,...   \n",
       "286558               1  1100.0,909.0,0.778181818182,0.00181818181818,0...   \n",
       "286559               1  1876.0,1567.0,0.78144989339,0.00692963752665,0...   \n",
       "286560               1  1129.0,975.0,0.795394154119,0.0150575730735,0....   \n",
       "\n",
       "        year        date  month  day  \n",
       "0       2013  2013-12-31     12   31  \n",
       "1       2013  2013-12-31     12   31  \n",
       "2       2014  2014-01-01      1    1  \n",
       "3       2013  2013-12-31     12   31  \n",
       "4       2014  2014-01-01      1    1  \n",
       "...      ...         ...    ...  ...  \n",
       "286556  2017  2017-04-30      4   30  \n",
       "286557  2017  2017-04-30      4   30  \n",
       "286558  2017  2017-04-30      4   30  \n",
       "286559  2017  2017-04-30      4   30  \n",
       "286560  2017  2017-04-30      4   30  \n",
       "\n",
       "[286561 rows x 10 columns]"
      ]
     },
     "execution_count": 45,
     "metadata": {},
     "output_type": "execute_result"
    }
   ],
   "source": [
    "df_body"
   ]
  },
  {
   "cell_type": "code",
   "execution_count": 46,
   "id": "e2359c21",
   "metadata": {},
   "outputs": [
    {
     "data": {
      "text/plain": [
       "7"
      ]
     },
     "execution_count": 46,
     "metadata": {},
     "output_type": "execute_result"
    }
   ],
   "source": [
    "year_2013 = df_body[df_body.year == 2013] \n",
    "dec_2013 = year_2013[year_2013.month==12]\n",
    "year_2013_new = dec_2013[dec_2013.day==31]\n",
    "len(year_2013_new)"
   ]
  },
  {
   "cell_type": "code",
   "execution_count": 47,
   "id": "e019d0a4",
   "metadata": {},
   "outputs": [
    {
     "data": {
      "text/plain": [
       "160"
      ]
     },
     "execution_count": 47,
     "metadata": {},
     "output_type": "execute_result"
    }
   ],
   "source": [
    "year_2014 = df_body[df_body.year == 2014] \n",
    "dec_2014 = year_2014[year_2014.month==12]\n",
    "year_2014_new = dec_2014[dec_2014.day==31]\n",
    "len(year_2014_new)"
   ]
  },
  {
   "cell_type": "code",
   "execution_count": 48,
   "id": "e3ea02be",
   "metadata": {},
   "outputs": [
    {
     "data": {
      "text/plain": [
       "250"
      ]
     },
     "execution_count": 48,
     "metadata": {},
     "output_type": "execute_result"
    }
   ],
   "source": [
    "year_2015 = df_body[df_body.year == 2015] \n",
    "last_month_2015 = year_2015[year_2015.month==12]\n",
    "year_2015_new = last_month_2015[last_month_2015.day==31]\n",
    "len(year_2015_new)"
   ]
  },
  {
   "cell_type": "code",
   "execution_count": 49,
   "id": "b8c9f78b",
   "metadata": {},
   "outputs": [
    {
     "data": {
      "text/plain": [
       "216"
      ]
     },
     "execution_count": 49,
     "metadata": {},
     "output_type": "execute_result"
    }
   ],
   "source": [
    "year_2016 = df_body[df_body.year == 2016] \n",
    "last_month_2016 = year_2016[year_2016.month==12]\n",
    "year_2016_new = last_month_2016[last_month_2016.day==31]\n",
    "len(year_2016_new)"
   ]
  },
  {
   "cell_type": "code",
   "execution_count": 50,
   "id": "6f7958f3",
   "metadata": {},
   "outputs": [],
   "source": [
    "years_len = [len(year_2013_new),len(year_2014_new),len(year_2015_new),len(year_2016_new)]\n",
    "years = ['2013','2014','2015','2016']"
   ]
  },
  {
   "cell_type": "code",
   "execution_count": 51,
   "id": "b8efe710",
   "metadata": {},
   "outputs": [
    {
     "data": {
      "image/png": "[encoded data removed]",
      "text/plain": [
       "<Figure size 432x288 with 1 Axes>"
      ]
     },
     "metadata": {},
     "output_type": "display_data"
    }
   ],
   "source": [
    "colors = [\"blue\", \"red\", \"green\", \"yellow\"]\n",
    "plt.pie(years_len, colors=colors, labels=years, startangle=0, autopct='%.1f%%')\n",
    "plt.axis('equal')\n",
    "plt.legend(years ,title=\"New Year Eve subreddits variation over the year 2013-2016\", bbox_to_anchor=(1.8,0.6),loc='right', bbox_transform=plt.gcf().transFigure)\n",
    "plt.show()"
   ]
  },
  {
   "cell_type": "code",
   "execution_count": 52,
   "id": "03941479",
   "metadata": {},
   "outputs": [],
   "source": [
    "df_title['year'] = pd.DatetimeIndex(df_title['TIMESTAMP']).year\n",
    "df_title['date']=pd.to_datetime(df_title['TIMESTAMP']).dt.date\n",
    "df_title['month']=pd.to_datetime(df_title.TIMESTAMP,format='%Y-%m-%d %H:%M:%S').dt.month\n",
    "df_title['day']=pd.to_datetime(df_title.TIMESTAMP,format='%Y-%m-%d %H:%M:%S').dt.day"
   ]
  },
  {
   "cell_type": "code",
   "execution_count": 53,
   "id": "32f90f4a",
   "metadata": {},
   "outputs": [
    {
     "data": {
      "text/plain": [
       "27"
      ]
     },
     "execution_count": 53,
     "metadata": {},
     "output_type": "execute_result"
    }
   ],
   "source": [
    "year_2013_title = df_title[df_title.year == 2013] \n",
    "dec_2013_title = year_2013_title[year_2013_title.month==12]\n",
    "year_2013_title = dec_2013_title[dec_2013_title.day==31]\n",
    "len(year_2013_title)"
   ]
  },
  {
   "cell_type": "code",
   "execution_count": 54,
   "id": "8b87f423",
   "metadata": {},
   "outputs": [
    {
     "data": {
      "text/plain": [
       "343"
      ]
     },
     "execution_count": 54,
     "metadata": {},
     "output_type": "execute_result"
    }
   ],
   "source": [
    "year_2014_title = df_title[df_title.year == 2014] \n",
    "dec_2014_title = year_2014_title[year_2014_title.month==12]\n",
    "year_2014_title = dec_2014_title[dec_2014_title.day==31]\n",
    "len(year_2014_title)"
   ]
  },
  {
   "cell_type": "code",
   "execution_count": 55,
   "id": "8da6e2db",
   "metadata": {},
   "outputs": [
    {
     "data": {
      "text/plain": [
       "425"
      ]
     },
     "execution_count": 55,
     "metadata": {},
     "output_type": "execute_result"
    }
   ],
   "source": [
    "year_2015_title = df_title[df_title.year == 2015] \n",
    "dec_2015_title = year_2015_title[year_2015_title.month==12]\n",
    "year_2015_title = dec_2015_title[dec_2015_title.day==31]\n",
    "len(year_2015_title)"
   ]
  },
  {
   "cell_type": "code",
   "execution_count": 56,
   "id": "e5dc9419",
   "metadata": {},
   "outputs": [
    {
     "data": {
      "text/plain": [
       "515"
      ]
     },
     "execution_count": 56,
     "metadata": {},
     "output_type": "execute_result"
    }
   ],
   "source": [
    "year_2016_title = df_title[df_title.year == 2016] \n",
    "dec_2016_title = year_2016_title[year_2016_title.month==12]\n",
    "year_2016_title = dec_2016_title[dec_2016_title.day==31]\n",
    "len(year_2016_title) "
   ]
  },
  {
   "cell_type": "code",
   "execution_count": 57,
   "id": "78306d35",
   "metadata": {},
   "outputs": [],
   "source": [
    "years_len_title = [len(year_2013_title),len(year_2014_title),len(year_2015_title),len(year_2016_title)]\n"
   ]
  },
  {
   "cell_type": "code",
   "execution_count": null,
   "id": "48ce0dd4",
   "metadata": {},
   "outputs": [],
   "source": []
  },
  {
   "cell_type": "code",
   "execution_count": 58,
   "id": "4d501f38",
   "metadata": {
    "scrolled": false
   },
   "outputs": [
    {
     "data": {
      "image/png": "[encoded data removed]",
      "text/plain": [
       "<Figure size 1080x360 with 1 Axes>"
      ]
     },
     "metadata": {
      "needs_background": "light"
     },
     "output_type": "display_data"
    }
   ],
   "source": [
    "fig, ax1 = plt.subplots(figsize=(15,5))\n",
    "ax1.plot(years,years_len, \"r-o\",linestyle='dashed', label = 'body')\n",
    "ax1.plot(years,years_len_title, \"b-o\",linestyle='dashed', label = 'title')\n",
    "ax1.set_ylim(0,)\n",
    "ax1.grid(None)\n",
    "ax1.legend(loc=\"upper left\", fontsize = 15)\n",
    "ax1.set_xlabel('Years')\n",
    "ax1.set_ylabel('Number of subreddits');\n",
    "\n",
    "plt.title('Variation of Subreddits over the years')\n",
    "plt.show()"
   ]
  }
 ],
 "metadata": {
  "kernelspec": {
   "display_name": "Python 3",
   "language": "python",
   "name": "python3"
  },
  "language_info": {
   "codemirror_mode": {
    "name": "ipython",
    "version": 3
   },
   "file_extension": ".py",
   "mimetype": "text/x-python",
   "name": "python",
   "nbconvert_exporter": "python",
   "pygments_lexer": "ipython3",
   "version": "3.8.8"
  }
 },
 "nbformat": 4,
 "nbformat_minor": 5
}
