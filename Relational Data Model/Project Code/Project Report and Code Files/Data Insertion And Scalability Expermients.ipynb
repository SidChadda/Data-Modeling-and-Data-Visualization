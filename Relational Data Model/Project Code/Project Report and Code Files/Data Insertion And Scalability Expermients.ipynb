{
  "nbformat": 4,
  "nbformat_minor": 0,
  "metadata": {
    "colab": {
      "name": "Data Insertion.ipynb",
      "provenance": [],
      "collapsed_sections": []
    },
    "kernelspec": {
      "name": "python3",
      "display_name": "Python 3"
    },
    "language_info": {
      "name": "python"
    }
  },
  "cells": [
    {
      "cell_type": "code",
      "metadata": {
        "id": "SJ4IkFiN4w5g"
      },
      "source": [
        "import numpy as np\n",
        "import pandas as pd\n",
        "from timeit import default_timer as timer"
      ],
      "execution_count": null,
      "outputs": []
    },
    {
      "cell_type": "markdown",
      "metadata": {
        "id": "1B8gsKW7m_eT"
      },
      "source": [
        "Load DataFrames"
      ]
    },
    {
      "cell_type": "code",
      "metadata": {
        "id": "PMQr20344w5l"
      },
      "source": [
        "df_20_04_party= pd.read_csv(\"df_20_04_party.csv\")\n",
        "df_20_04_candidate= pd.read_csv(\"df_20_04_candidate.csv\")\n",
        "df_20_04_common= pd.read_csv(\"df_20_04_common.csv\")\n",
        "df_93_99_party= pd.read_csv(\"df_93_99_party.csv\")\n",
        "df_93_99_candidate= pd.read_csv(\"df_93_99_candidate.csv\")\n",
        "df_93_99_common= pd.read_csv(\"df_93_99_common.csv\")\n",
        "df_current= pd.read_csv(\"df_current.csv\")"
      ],
      "execution_count": null,
      "outputs": []
    },
    {
      "cell_type": "markdown",
      "metadata": {
        "id": "d8AQiB7BVUBt"
      },
      "source": [
        "View Columns"
      ]
    },
    {
      "cell_type": "code",
      "metadata": {
        "id": "2qdMunVy4w5m",
        "colab": {
          "base_uri": "https://localhost:8080/"
        },
        "outputId": "ca928701-25c8-4ed8-be48-3446e7f89285"
      },
      "source": [
        "print('2000-2004 party DataFrame columns  : \\n', df_20_04_party.columns,'\\n\\n')\n",
        "print('2000-2004 Candidate DataFrame columns  : \\n', df_20_04_candidate.columns,'\\n\\n')\n",
        "print('2000-2004 Common DataFrame columns  : \\n', df_20_04_common.columns,'\\n\\n')\n",
        "print('1993-1999 party DataFrame columns  : \\n', df_93_99_party.columns,'\\n\\n')\n",
        "print('1993-1999 Candidate DataFrame columns  : \\n', df_93_99_candidate.columns,'\\n\\n')\n",
        "print('1993-1999 Common DataFrame columns  : \\n', df_93_99_common.columns,'\\n\\n')\n",
        "print('2004-Present DataFrame columns  : \\n', df_20_04_party.columns,'\\n\\n')"
      ],
      "execution_count": null,
      "outputs": [
        {
          "output_type": "stream",
          "name": "stdout",
          "text": [
            "2000-2004 party DataFrame columns  : \n",
            " Index(['Table_Index_Key'], dtype='object') \n",
            "\n",
            "\n",
            "2000-2004 Candidate DataFrame columns  : \n",
            " Index(['Electoral District',\n",
            "       'Address of organization that contribution was given through',\n",
            "       'Table_Index_Key'],\n",
            "      dtype='object') \n",
            "\n",
            "\n",
            "2000-2004 Common DataFrame columns  : \n",
            " Index(['Recipient', ' Contributor name', 'Contribution given through',\n",
            "       'Political Entity', 'Non-Monetary amount', 'Political Party',\n",
            "       'Financial Report', 'Part Number of Return', 'Contributor City',\n",
            "       'Contributor type', 'Form ID', 'Fiscal date', 'Contributor Province',\n",
            "       'Contributor Postal code', 'Monetary amount',\n",
            "       'Type of organization that contribution was given through',\n",
            "       'Recipient ID', 'Financial Report part', 'Table_Index_Key',\n",
            "       'Electoral event'],\n",
            "      dtype='object') \n",
            "\n",
            "\n",
            "1993-1999 party DataFrame columns  : \n",
            " Index(['Table_Index_Key'], dtype='object') \n",
            "\n",
            "\n",
            "1993-1999 Candidate DataFrame columns  : \n",
            " Index(['Electoral District', 'Form ID', 'Part Number of Return',\n",
            "       'Table_Index_Key'],\n",
            "      dtype='object') \n",
            "\n",
            "\n",
            "1993-1999 Common DataFrame columns  : \n",
            " Index(['Recipient', 'Political Party', 'Contributor type', ' Contributor name',\n",
            "       'Financial Report', 'Recipient ID', 'Financial Report part',\n",
            "       'Political Entity', 'Fiscal date', 'Table_Index_Key', 'Electoral event',\n",
            "       'Monetary amount'],\n",
            "      dtype='object') \n",
            "\n",
            "\n",
            "2004-Present DataFrame columns  : \n",
            " Index(['Table_Index_Key'], dtype='object') \n",
            "\n",
            "\n"
          ]
        }
      ]
    },
    {
      "cell_type": "markdown",
      "metadata": {
        "id": "wTEnGg4ZT10q"
      },
      "source": [
        "SQL Queries"
      ]
    },
    {
      "cell_type": "code",
      "metadata": {
        "id": "G3pGS5R24w5s"
      },
      "source": [
        "# Creating the database\n",
        "import sqlite3"
      ],
      "execution_count": null,
      "outputs": []
    },
    {
      "cell_type": "code",
      "metadata": {
        "id": "9oMi-gTB4w5t"
      },
      "source": [
        "conn = sqlite3.connect('election_database')\n",
        "c = conn.cursor()\n",
        "c.execute('CREATE TABLE IF NOT EXISTS df_20_04_party (Table_Index_Key)')\n",
        "conn.commit()\n",
        "c.execute('CREATE TABLE IF NOT EXISTS df_20_04_candidate (Electoral_District,contribution_organization_Address,Table_Index_Key)')\n",
        "conn.commit()\n",
        "c.execute('CREATE TABLE IF NOT EXISTS df_93_99_party (Table_Index_Key)')\n",
        "conn.commit() \n",
        "c.execute('CREATE TABLE IF NOT EXISTS df_93_99_candidate (Electoral_District, Form_ID, Part_Number_of_Return, Table_Index_Key)')\n",
        "conn.commit() \n",
        "c.execute('CREATE TABLE IF NOT EXISTS df_93_99_common (Recipient, Political_Party, Contributor_type, Contributor_name, Financial_Report, Recipient_ID, Financial_Report_part, Political_Entity, Fiscal_date, Table_Index_Key, Electoral_event, Monetary_amount)')\n",
        "conn.commit() \n",
        "c.execute('CREATE TABLE IF NOT EXISTS df_current (Recipient_ID, Recipient, Political_Party_of_Recipient, Electoral_District, Electoral_event, Fiscal_Election_date, Form_ID, Financial_Report, Part_Number_of_Return, Financial_Report_part, Contributor_type, Contributor_name, Contributor_City, Contributor_Province, Contributor_Postal_code, Contribution_Received_date, Monetary_amount, Contribution_given_through, Political_Entity)')\n",
        "conn.commit() \n"
      ],
      "execution_count": null,
      "outputs": []
    },
    {
      "cell_type": "code",
      "metadata": {
        "id": "uf96FlaB4w5w"
      },
      "source": [
        "# Renaming Column Headers\n",
        "df_20_04_party.columns= [\"Table_Index_Key\"]\n",
        "df_20_04_candidate.columns= [\"Electoral_District\",\"contribution_organization_Address\",\"Table_Index_Key\"]\n",
        "df_20_04_common.columns= [\"Recipient\", \"Contributor_name\", \"Contribution_given_through\", \"Political_Entity\", \"Non_Monetary_amount\", \"Political_Party\", \"Financial_Report\", \"Part_Number_of_Return\", \"Contributor_City\", \"Contributor_type\", \"Form_ID\", \"Fiscal_date\", \"Contributor_Province\", \"Contributor_Postal_code\", \"Monetary_amount\", \"Type_of_organization_that_contribution_was_given_through\", \"Recipient_ID\", \"Financial_Report_part\", \"Table_Index_Key\", \"Electoral_event\"]\n",
        "df_93_99_party.columns= [\"Table_Index_Key\"]\n",
        "df_93_99_candidate.columns=[\"Electoral_District\", \"Form_ID\", \"Part_Number_of_Return\", \"Table_Index_Key\"]\n",
        "df_93_99_common.columns= [\"Recipient\", \"Political_Party\", \"Contributor_type\", \"Contributor_name\", \"Financial_Report\", \"Recipient_ID\", \"Financial_Report_part\", \"Political_Entity\", \"Fiscal_date\", \"Table_Index_Key\", \"Electoral_event\", \"Monetary_amount\"]\n",
        "df_current.columns= [\"Recipient_ID\", \"Recipient\", \"Political_Party_of_Recipient\", \"Electoral_District\", \"Electoral_event\", \"Fiscal_Election_date\", \"Form_ID\", \"Financial_Report\", \"Part_Number_of_Return\", \"Financial_Report_part\", \"Contributor_type\", \"Contributor_name\", \"Contributor_City\", \"Contributor_Province\", \"Contributor_Postal_code\", \"Contribution_Received_date\", \"Monetary_amount\", \"Contribution_given_through\", \"Political_Entity\"]"
      ],
      "execution_count": null,
      "outputs": []
    },
    {
      "cell_type": "markdown",
      "metadata": {
        "id": "4xCPtpMw4w5z"
      },
      "source": [
        "**Time complexity for Insertion using Pandas Dataframes**"
      ]
    },
    {
      "cell_type": "code",
      "metadata": {
        "id": "bZEToY5T4w52"
      },
      "source": [
        "# Taking 25%\n",
        "count_25=int((25*df_current.shape[0])/100)\n",
        "\n",
        "# Taking 50%\n",
        "count_50=int((50*df_current.shape[0])/100)\n",
        "\n",
        "# Taking 75%\n",
        "count_75=int((75*df_current.shape[0])/100)\n",
        "\n",
        "# Taking 100%\n",
        "count_100=df_current.shape[0]\n",
        "\n",
        "execution_time=[]"
      ],
      "execution_count": null,
      "outputs": []
    },
    {
      "cell_type": "code",
      "metadata": {
        "colab": {
          "base_uri": "https://localhost:8080/"
        },
        "id": "COV9xrxTuWqH",
        "outputId": "e6b22998-f686-4e5b-cf7e-7cad22630890"
      },
      "source": [
        "print(count_25)\n",
        "print(count_50)\n",
        "print(count_75)\n",
        "print(count_100)"
      ],
      "execution_count": null,
      "outputs": [
        {
          "output_type": "stream",
          "name": "stdout",
          "text": [
            "18526\n",
            "37052\n",
            "55578\n",
            "74104\n"
          ]
        }
      ]
    },
    {
      "cell_type": "code",
      "metadata": {
        "id": "2myIDslP4w53"
      },
      "source": [
        "# Insertion of 25% of the Dataframe \n",
        "start_25=timer()\n",
        "df_current[:count_25].to_sql('df_current', conn, if_exists='replace', index = False)\n",
        "end_25=timer()\n",
        "\n",
        "# Insertion of 50% of the Dataframe \n",
        "start_50=timer()\n",
        "df_current[:count_50].to_sql('df_current', conn, if_exists='replace', index = False)\n",
        "end_50=timer()\n",
        "\n",
        "# Insertion of 75% of the Dataframe \n",
        "start_75=timer()\n",
        "df_current[:count_75].to_sql('df_current', conn, if_exists='replace', index = False)\n",
        "end_75=timer()\n",
        "\n",
        "# Insertion of 100% of the Dataframe \n",
        "start_100=timer()\n",
        "df_current[:count_100].to_sql('df_current', conn, if_exists='replace', index = False)\n",
        "end_100=timer()\n",
        "\n",
        "# Appending execution time\n",
        "execution_time.append(end_25-start_25)\n",
        "execution_time.append(end_50-start_50)\n",
        "execution_time.append(end_75-start_75)\n",
        "execution_time.append(end_100-start_100)"
      ],
      "execution_count": null,
      "outputs": []
    },
    {
      "cell_type": "code",
      "metadata": {
        "id": "x8uMEPe_4w53",
        "colab": {
          "base_uri": "https://localhost:8080/"
        },
        "outputId": "4aa0975a-91ff-4392-b5a1-3be009ef5896"
      },
      "source": [
        "# List for Execution Times\n",
        "execution_time"
      ],
      "execution_count": null,
      "outputs": [
        {
          "output_type": "execute_result",
          "data": {
            "text/plain": [
              "[0.5024843409999846, 0.7681964370000003, 1.5002855769999996, 2.047459599000007]"
            ]
          },
          "metadata": {},
          "execution_count": 13
        }
      ]
    },
    {
      "cell_type": "markdown",
      "metadata": {
        "id": "_GOM48HZVFfW"
      },
      "source": [
        "**Time complexity for Insertion using SQL Queries**"
      ]
    },
    {
      "cell_type": "code",
      "metadata": {
        "id": "FCJmF7w7-FT4"
      },
      "source": [
        "sql_insert_execution_time=[]\n",
        "\n",
        "# Inserting 25% of data\n",
        "sql_insert_start_25=timer()\n",
        "for i in range(count_25):\n",
        "  values = tuple(df_current.iloc[i])\n",
        "  c.execute(\"insert into df_current values (?,?,?,?,?,?,?,?,?,?,?,?,?,?,?,?,?,?,?)\", values)\n",
        "sql_insert_end_25=timer()\n",
        "\n",
        "# Inserting 50% of data\n",
        "sql_insert_start_50=timer()\n",
        "for i in range(count_50):\n",
        "  values = tuple(df_current.iloc[i])\n",
        "  c.execute(\"insert into df_current values (?,?,?,?,?,?,?,?,?,?,?,?,?,?,?,?,?,?,?)\", values)\n",
        "sql_insert_end_50=timer()\n",
        "\n",
        "\n",
        "# Inserting 75% of data\n",
        "sql_insert_start_75=timer()\n",
        "for i in range(count_75):\n",
        "  values = tuple(df_current.iloc[i])\n",
        "  c.execute(\"insert into df_current values (?,?,?,?,?,?,?,?,?,?,?,?,?,?,?,?,?,?,?)\", values)\n",
        "sql_insert_end_75=timer()\n",
        "\n",
        "\n",
        "# Inserting 100% of data\n",
        "sql_insert_start_100=timer()\n",
        "for i in range(count_100):\n",
        "  values = tuple(df_current.iloc[i])\n",
        "  c.execute(\"insert into df_current values (?,?,?,?,?,?,?,?,?,?,?,?,?,?,?,?,?,?,?)\", values)\n",
        "sql_insert_end_100=timer()\n",
        "\n",
        "\n",
        "# Appending execution time\n",
        "sql_insert_execution_time.append(sql_insert_end_25-sql_insert_start_25)\n",
        "sql_insert_execution_time.append(sql_insert_end_50-sql_insert_start_50)\n",
        "sql_insert_execution_time.append(sql_insert_end_75-sql_insert_start_75)\n",
        "sql_insert_execution_time.append(sql_insert_end_100-sql_insert_start_100)"
      ],
      "execution_count": null,
      "outputs": []
    },
    {
      "cell_type": "code",
      "metadata": {
        "colab": {
          "base_uri": "https://localhost:8080/"
        },
        "id": "eFmBZ-Xkfskj",
        "outputId": "722f5baa-76a2-43f5-ed88-fcbc301c4abd"
      },
      "source": [
        "sql_insert_execution_time"
      ],
      "execution_count": null,
      "outputs": [
        {
          "output_type": "execute_result",
          "data": {
            "text/plain": [
              "[3.4983265909999943, 6.722010602000012, 9.938572319000002, 12.906082773999998]"
            ]
          },
          "metadata": {},
          "execution_count": 15
        }
      ]
    },
    {
      "cell_type": "markdown",
      "metadata": {
        "id": "eynCylJZqSIB"
      },
      "source": [
        "Graph  for Insertion Time Complexity"
      ]
    },
    {
      "cell_type": "code",
      "metadata": {
        "colab": {
          "base_uri": "https://localhost:8080/",
          "height": 452
        },
        "id": "rGHWbhfop8uI",
        "outputId": "cbc0cb98-831d-43f2-d1dc-8b0d305562ae"
      },
      "source": [
        "from matplotlib.pyplot import figure\n",
        "import matplotlib.pyplot as plt\n",
        "import matplotlib.colors as colors\n",
        "\n",
        "# List for % of data\n",
        "count_percent=[25,50,75,100]\n",
        "figure(figsize=(15,7))\n",
        "plt.plot(count_percent,sql_insert_execution_time, 'ro-', label = \"Insertion using SQL\", linewidth = '2.5',markersize=8)\n",
        "plt.plot(count_percent,execution_time, 'go-', label = \"Insertion using Pandas DataFrame\", linewidth = '2.5',markersize=8)\n",
        "plt.title(\"Time Complexity of Insertion for different record size\")\n",
        "plt.xlabel(\"Record Size (in %)\",fontsize=15)  \n",
        "plt.ylabel(\"Execution Time (In seconds)\",fontsize=15)\n",
        "\n",
        "plt.legend()\n",
        "plt.show()"
      ],
      "execution_count": null,
      "outputs": [
        {
          "output_type": "display_data",
          "data": {
            "image/png": "[encoded data removed]",
            "text/plain": [
              "<Figure size 1080x504 with 1 Axes>"
            ]
          },
          "metadata": {
            "needs_background": "light"
          }
        }
      ]
    },
    {
      "cell_type": "markdown",
      "metadata": {
        "id": "MX015wcWXCFr"
      },
      "source": [
        "Time Complexity for Fetching Data from using SQL queries\n"
      ]
    },
    {
      "cell_type": "code",
      "metadata": {
        "id": "brxAJ0rcaebQ"
      },
      "source": [
        "Fetch_sql_execution_time=[]\n",
        "\n",
        "# Fetching 100% of the data from the df_current\n",
        "\n",
        "fetch_sql_start_100=timer()\n",
        "for i in c.execute('''SELECT * FROM df_current LIMIT 3360058'''):\n",
        "  continue\n",
        "fetch_sql_end_100=timer()\n",
        "\n",
        "# Fetching 75% of the data from the df_current\n",
        "\n",
        "fetch_sql_start_75=timer()\n",
        "for i in c.execute('''SELECT * FROM df_current LIMIT 2520043'''):\n",
        "  continue\n",
        "fetch_sql_end_75=timer()\n",
        "\n",
        "\n",
        "# Fetching 50% of the data from the df_current\n",
        "\n",
        "fetch_sql_start_50=timer()\n",
        "for i in c.execute('''SELECT * FROM df_current LIMIT 1680029'''):\n",
        "  continue\n",
        "fetch_sql_end_50=timer()\n",
        "\n",
        "\n",
        "# Fetching 25% of the data from the df_current\n",
        "\n",
        "fetch_sql_start_25=timer()\n",
        "for i in c.execute('''SELECT * FROM df_current LIMIT 840014'''):\n",
        "  continue\n",
        "fetch_sql_end_25=timer()\n",
        "\n",
        "\n",
        "\n",
        "\n",
        "\n",
        "Fetch_sql_execution_time.append(fetch_sql_end_100-fetch_sql_start_100)\n",
        "Fetch_sql_execution_time.append(fetch_sql_end_75-fetch_sql_start_75)\n",
        "Fetch_sql_execution_time.append(fetch_sql_end_50-fetch_sql_start_50)\n",
        "\n",
        "Fetch_sql_execution_time.append(fetch_sql_end_25-fetch_sql_start_25)\n",
        "\n",
        "\n",
        "#Fetch_sql_execution_time=[i*10 for i in Fetch_sql_execution_time]"
      ],
      "execution_count": null,
      "outputs": []
    },
    {
      "cell_type": "code",
      "metadata": {
        "colab": {
          "base_uri": "https://localhost:8080/"
        },
        "id": "bJaqGsB1aeTs",
        "outputId": "550b4fb3-10c9-4b86-e81b-8be6ebb5758d"
      },
      "source": [
        "Fetch_sql_execution_time"
      ],
      "execution_count": null,
      "outputs": [
        {
          "output_type": "execute_result",
          "data": {
            "text/plain": [
              "[1.2263189600000715,\n",
              " 1.2352829420001399,\n",
              " 1.3038986560000012,\n",
              " 1.2774379939999108]"
            ]
          },
          "metadata": {},
          "execution_count": 23
        }
      ]
    },
    {
      "cell_type": "markdown",
      "metadata": {
        "id": "WCAVh0FMiHxX"
      },
      "source": [
        "Fetching Data using Pandas Dataframe"
      ]
    },
    {
      "cell_type": "code",
      "metadata": {
        "id": "CK8Xo0Ulfand"
      },
      "source": [
        "df_fetch_execution_time=[]\n",
        "\n",
        "df_fetch_start_25=timer()\n",
        "df_fetch_25=pd.read_sql_query('SELECT * FROM df_current LIMIT 187251',conn)\n",
        "df_fetch_end_25=timer()\n",
        "\n",
        "df_fetch_start_50=timer()\n",
        "\n",
        "df_fetch_50=pd.read_sql_query('SELECT * FROM df_current LIMIT 374502',conn)\n",
        "df_fetch_end_50=timer()\n",
        "\n",
        "df_fetch_start_75=timer()\n",
        "\n",
        "df_fetch_75=pd.read_sql_query('SELECT * FROM df_current LIMIT 561753',conn)\n",
        "df_fetch_end_75=timer()\n",
        "\n",
        "df_fetch_start_100=timer()\n",
        "\n",
        "df_fetch_100=pd.read_sql_query('SELECT * FROM df_current LIMIT 749005',conn)\n",
        "df_fetch_end_100=timer()\n",
        "\n",
        "df_fetch_execution_time.append(df_fetch_end_25-df_fetch_start_25)\n",
        "df_fetch_execution_time.append(df_fetch_end_50-df_fetch_start_50)\n",
        "df_fetch_execution_time.append(df_fetch_end_75-df_fetch_start_75)\n",
        "df_fetch_execution_time.append(df_fetch_end_100-df_fetch_start_100)"
      ],
      "execution_count": null,
      "outputs": []
    },
    {
      "cell_type": "code",
      "metadata": {
        "colab": {
          "base_uri": "https://localhost:8080/"
        },
        "id": "EAbJX-05iqP0",
        "outputId": "911b2596-199d-4a55-9974-5bfb6651be05"
      },
      "source": [
        "df_fetch_execution_time"
      ],
      "execution_count": null,
      "outputs": [
        {
          "output_type": "execute_result",
          "data": {
            "text/plain": [
              "[2.5737669150000784, 3.3587306860001718, 3.0658721719998994, 2.852072374000045]"
            ]
          },
          "metadata": {},
          "execution_count": 25
        }
      ]
    },
    {
      "cell_type": "markdown",
      "metadata": {
        "id": "6TxvQ4yfsecs"
      },
      "source": [
        "Graph  for Time Complexity of Fetching Data"
      ]
    },
    {
      "cell_type": "code",
      "metadata": {
        "colab": {
          "base_uri": "https://localhost:8080/",
          "height": 451
        },
        "id": "D50WknSjsdUV",
        "outputId": "f6bc6f81-e318-4633-f6ef-6079974de096"
      },
      "source": [
        "from matplotlib.pyplot import figure\n",
        "import matplotlib.pyplot as plt\n",
        "import matplotlib.colors as colors\n",
        "\n",
        "# List for % of data\n",
        "count_percent=[25,50,75,100]\n",
        "figure(figsize=(15,7))\n",
        "plt.plot(count_percent,df_fetch_execution_time, 'go-', label = \"Fetching using Pandas DataFrame\", linewidth = '2.5',markersize=8)\n",
        "plt.plot(count_percent,Fetch_sql_execution_time, 'ro-', label = \"Fetching using SQL\", linewidth = '2.5',markersize=8)\n",
        "plt.title(\"Time Complexity of Fetching for different record size\")\n",
        "plt.xlabel(\"Record Size (in %)\",fontsize=15)  \n",
        "plt.ylabel(\"Execution Time (In seconds)\",fontsize=15)\n",
        "plt.legend()\n",
        "plt.show()"
      ],
      "execution_count": null,
      "outputs": [
        {
          "output_type": "display_data",
          "data": {
            "image/png": "[encoded data removed]",
            "text/plain": [
              "<Figure size 1080x504 with 1 Axes>"
            ]
          },
          "metadata": {
            "needs_background": "light"
          }
        }
      ]
    }
  ]
}